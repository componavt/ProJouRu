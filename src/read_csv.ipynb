{
  "nbformat": 4,
  "nbformat_minor": 0,
  "metadata": {
    "colab": {
      "name": "Python HTTP Requests for Humans.ipynb",
      "provenance": [],
      "include_colab_link": true
    },
    "kernelspec": {
      "name": "python3",
      "display_name": "Python 3"
    }
  },
  "cells": [
    {
      "cell_type": "markdown",
      "metadata": {
        "id": "view-in-github",
        "colab_type": "text"
      },
      "source": [
        "<a href=\"https://colab.research.google.com/github/componavt/ProJouRu/blob/main/src/read_csv.ipynb\" target=\"_parent\"><img src=\"https://colab.research.google.com/assets/colab-badge.svg\" alt=\"Open In Colab\"/></a>"
      ]
    },
    {
      "cell_type": "markdown",
      "metadata": {
        "id": "vaNrp4OLqCBF"
      },
      "source": [
        "#**ProJouRu (JOUrnal RUssian whitelist)**\n",
        "\n",
        "ProJouRu (проЖору) - about [White list of scientific journals](https://journalrank.rcsi.science) in Russia.\n",
        "\n",
        "Links:\n",
        "*   SCOPUS categories at [dhimmel/data/asjc-codes.tsv](https://github.com/dhimmel/scopus/blob/main/data/asjc-codes.tsv)\n",
        "\n",
        "![alt text](https://upload.wikimedia.org/wikipedia/commons/thumb/a/a6/Toicon-icon-stone-serve.svg/240px-Toicon-icon-stone-serve.svg.png)"
      ]
    },
    {
      "cell_type": "code",
      "metadata": {
        "id": "0KeyRlYQnFUq",
        "outputId": "a5e196fa-cdb5-4c18-da20-fb40b8505cca",
        "colab": {
          "base_uri": "https://localhost:8080/",
          "height": 149
        }
      },
      "source": [
        "import pandas as pd\n",
        "\n",
        "csv_files = [\n",
        "    \"https://raw.githubusercontent.com/componavt/ProJouRu/main/data/journalrank_example2.csv\",\n",
        "]\n",
        "\n",
        "df = pd.concat([pd.read_csv(url) for url in csv_files], ignore_index=True)\n",
        "df = df.reset_index()  # make sure indexes pair with number of rows\n",
        "df.head()"
      ],
      "execution_count": 1,
      "outputs": [
        {
          "output_type": "execute_result",
          "data": {
            "text/plain": [
              "   index  \\\n",
              "0      0   \n",
              "1      1   \n",
              "\n",
              "  title\\t\"issns\"\\t\"level\"\\t\"wos_cc\"\\t\"wos_update\"\\t\"scopus\"\\t\"srcid\"\\t\"sc_update\"\\t\"rsci\"\\t\"sherpa\"\\t\"sherpa_id\"\\t\"sherpa_update\"\\t\"ajg21\"\\t\"ajg_update\"\\t\"doaj\"\\t\"doaj_id\"\\t\"doaj_update\"\\t\"erih\"\\t\"erih_update\"\\t\"eclit\"\\t\"eclit_update\"\\t\"ecbiz\"\\t\"ecbiz_update\"\\t\"inspec\"\\t\"inspec_update\"\\t\"dblp\"\\t\"dblp_id\"\\t\"dblp_update\"\\t\"msn\"\\t\"msn_update\"\\t\"zbm\"\\t\"zbm_id\"\\t\"zbm_update\"\\t\"medline\"\\t\"medline_id\"\\t\"medline_update\"\\t\"embase\"\\t\"embase_update\"\\t\"agricola\"\\t\"agricola_update\"\\t\"cab\"\\t\"cab_update\"\\t\"cpx\"\\t\"cpx_update\"\\t\"georef\"\\t\"georef_update\"\\t\"geobase\"\\t\"geobase_update\"\\t\"oax\"\\t\"oax_id\"\\t\"oax_update\"\\t\"job\"\\t\"job_id\"\\t\"job_update\"\\t\"abdc22\"\\t\"abdc_update\"\\t\"sudoc\"\\t\"sudoc_id\"\\t\"sudoc_update\"\\t\"cref\"\\t\"cref_update\"\\t\"scilit\"\\t\"scilit_id\"\\t\"scilit_update\"\\t\"wikidata\"\\t\"wikidata_id\"\\t\"wikidata_update\"\\t\"fatcat\"\\t\"fatcat_id\"\\t\"fatcat_update\"\\t\"fsta\"\\t\"fsta_update\"\\t\"hsabs\"\\t\"hsabs_update\"\\t\"wpsa\"\\t\"wpsa_update\"\\t\"socabs\"\\t\"socabs_update\"\\t\"chim\"\\t\"chim_update\"\\t\"zoorec\"\\t\"zoorec_update\"\\t\"biabs\"\\t\"biabs_update\"\\t\"petro\"\\t\"petro_update\"\\t\"dnb\"\\t\"dnb_id (idn)\"\\t\"dnb_update\"\\t\"cas_core\"\\t\"coden\"\\t\"coden_update\"\\t\"date_accepted\"\\t\"date_discontinued\"\\t\"state\"\\t\"notice\"  \n",
              "0  WIKIJOURNAL OF SCIENCE\\t\"2470-6345\"\\t\"4\"\\t\"No\"...                                                                                                                                                                                                                                                                                                                                                                                                                                                                                                                                                                                                                                                                                                                                                                                                                                                                                                                                                                                                                                                                                                                                                                   \n",
              "1  CYBERGEO - EUROPEAN JOURNAL OF GEOGRAPHY\\t\"127...                                                                                                                                                                                                                                                                                                                                                                                                                                                                                                                                                                                                                                                                                                                                                                                                                                                                                                                                                                                                                                                                                                                                                                   "
            ],
            "text/html": [
              "\n",
              "  <div id=\"df-a5bba2fd-ac2d-4993-9568-9dede0c2b5a5\" class=\"colab-df-container\">\n",
              "    <div>\n",
              "<style scoped>\n",
              "    .dataframe tbody tr th:only-of-type {\n",
              "        vertical-align: middle;\n",
              "    }\n",
              "\n",
              "    .dataframe tbody tr th {\n",
              "        vertical-align: top;\n",
              "    }\n",
              "\n",
              "    .dataframe thead th {\n",
              "        text-align: right;\n",
              "    }\n",
              "</style>\n",
              "<table border=\"1\" class=\"dataframe\">\n",
              "  <thead>\n",
              "    <tr style=\"text-align: right;\">\n",
              "      <th></th>\n",
              "      <th>index</th>\n",
              "      <th>title\\t\"issns\"\\t\"level\"\\t\"wos_cc\"\\t\"wos_update\"\\t\"scopus\"\\t\"srcid\"\\t\"sc_update\"\\t\"rsci\"\\t\"sherpa\"\\t\"sherpa_id\"\\t\"sherpa_update\"\\t\"ajg21\"\\t\"ajg_update\"\\t\"doaj\"\\t\"doaj_id\"\\t\"doaj_update\"\\t\"erih\"\\t\"erih_update\"\\t\"eclit\"\\t\"eclit_update\"\\t\"ecbiz\"\\t\"ecbiz_update\"\\t\"inspec\"\\t\"inspec_update\"\\t\"dblp\"\\t\"dblp_id\"\\t\"dblp_update\"\\t\"msn\"\\t\"msn_update\"\\t\"zbm\"\\t\"zbm_id\"\\t\"zbm_update\"\\t\"medline\"\\t\"medline_id\"\\t\"medline_update\"\\t\"embase\"\\t\"embase_update\"\\t\"agricola\"\\t\"agricola_update\"\\t\"cab\"\\t\"cab_update\"\\t\"cpx\"\\t\"cpx_update\"\\t\"georef\"\\t\"georef_update\"\\t\"geobase\"\\t\"geobase_update\"\\t\"oax\"\\t\"oax_id\"\\t\"oax_update\"\\t\"job\"\\t\"job_id\"\\t\"job_update\"\\t\"abdc22\"\\t\"abdc_update\"\\t\"sudoc\"\\t\"sudoc_id\"\\t\"sudoc_update\"\\t\"cref\"\\t\"cref_update\"\\t\"scilit\"\\t\"scilit_id\"\\t\"scilit_update\"\\t\"wikidata\"\\t\"wikidata_id\"\\t\"wikidata_update\"\\t\"fatcat\"\\t\"fatcat_id\"\\t\"fatcat_update\"\\t\"fsta\"\\t\"fsta_update\"\\t\"hsabs\"\\t\"hsabs_update\"\\t\"wpsa\"\\t\"wpsa_update\"\\t\"socabs\"\\t\"socabs_update\"\\t\"chim\"\\t\"chim_update\"\\t\"zoorec\"\\t\"zoorec_update\"\\t\"biabs\"\\t\"biabs_update\"\\t\"petro\"\\t\"petro_update\"\\t\"dnb\"\\t\"dnb_id (idn)\"\\t\"dnb_update\"\\t\"cas_core\"\\t\"coden\"\\t\"coden_update\"\\t\"date_accepted\"\\t\"date_discontinued\"\\t\"state\"\\t\"notice\"</th>\n",
              "    </tr>\n",
              "  </thead>\n",
              "  <tbody>\n",
              "    <tr>\n",
              "      <th>0</th>\n",
              "      <td>0</td>\n",
              "      <td>WIKIJOURNAL OF SCIENCE\\t\"2470-6345\"\\t\"4\"\\t\"No\"...</td>\n",
              "    </tr>\n",
              "    <tr>\n",
              "      <th>1</th>\n",
              "      <td>1</td>\n",
              "      <td>CYBERGEO - EUROPEAN JOURNAL OF GEOGRAPHY\\t\"127...</td>\n",
              "    </tr>\n",
              "  </tbody>\n",
              "</table>\n",
              "</div>\n",
              "    <div class=\"colab-df-buttons\">\n",
              "\n",
              "  <div class=\"colab-df-container\">\n",
              "    <button class=\"colab-df-convert\" onclick=\"convertToInteractive('df-a5bba2fd-ac2d-4993-9568-9dede0c2b5a5')\"\n",
              "            title=\"Convert this dataframe to an interactive table.\"\n",
              "            style=\"display:none;\">\n",
              "\n",
              "  <svg xmlns=\"http://www.w3.org/2000/svg\" height=\"24px\" viewBox=\"0 -960 960 960\">\n",
              "    <path d=\"M120-120v-720h720v720H120Zm60-500h600v-160H180v160Zm220 220h160v-160H400v160Zm0 220h160v-160H400v160ZM180-400h160v-160H180v160Zm440 0h160v-160H620v160ZM180-180h160v-160H180v160Zm440 0h160v-160H620v160Z\"/>\n",
              "  </svg>\n",
              "    </button>\n",
              "\n",
              "  <style>\n",
              "    .colab-df-container {\n",
              "      display:flex;\n",
              "      gap: 12px;\n",
              "    }\n",
              "\n",
              "    .colab-df-convert {\n",
              "      background-color: #E8F0FE;\n",
              "      border: none;\n",
              "      border-radius: 50%;\n",
              "      cursor: pointer;\n",
              "      display: none;\n",
              "      fill: #1967D2;\n",
              "      height: 32px;\n",
              "      padding: 0 0 0 0;\n",
              "      width: 32px;\n",
              "    }\n",
              "\n",
              "    .colab-df-convert:hover {\n",
              "      background-color: #E2EBFA;\n",
              "      box-shadow: 0px 1px 2px rgba(60, 64, 67, 0.3), 0px 1px 3px 1px rgba(60, 64, 67, 0.15);\n",
              "      fill: #174EA6;\n",
              "    }\n",
              "\n",
              "    .colab-df-buttons div {\n",
              "      margin-bottom: 4px;\n",
              "    }\n",
              "\n",
              "    [theme=dark] .colab-df-convert {\n",
              "      background-color: #3B4455;\n",
              "      fill: #D2E3FC;\n",
              "    }\n",
              "\n",
              "    [theme=dark] .colab-df-convert:hover {\n",
              "      background-color: #434B5C;\n",
              "      box-shadow: 0px 1px 3px 1px rgba(0, 0, 0, 0.15);\n",
              "      filter: drop-shadow(0px 1px 2px rgba(0, 0, 0, 0.3));\n",
              "      fill: #FFFFFF;\n",
              "    }\n",
              "  </style>\n",
              "\n",
              "    <script>\n",
              "      const buttonEl =\n",
              "        document.querySelector('#df-a5bba2fd-ac2d-4993-9568-9dede0c2b5a5 button.colab-df-convert');\n",
              "      buttonEl.style.display =\n",
              "        google.colab.kernel.accessAllowed ? 'block' : 'none';\n",
              "\n",
              "      async function convertToInteractive(key) {\n",
              "        const element = document.querySelector('#df-a5bba2fd-ac2d-4993-9568-9dede0c2b5a5');\n",
              "        const dataTable =\n",
              "          await google.colab.kernel.invokeFunction('convertToInteractive',\n",
              "                                                    [key], {});\n",
              "        if (!dataTable) return;\n",
              "\n",
              "        const docLinkHtml = 'Like what you see? Visit the ' +\n",
              "          '<a target=\"_blank\" href=https://colab.research.google.com/notebooks/data_table.ipynb>data table notebook</a>'\n",
              "          + ' to learn more about interactive tables.';\n",
              "        element.innerHTML = '';\n",
              "        dataTable['output_type'] = 'display_data';\n",
              "        await google.colab.output.renderOutput(dataTable, element);\n",
              "        const docLink = document.createElement('div');\n",
              "        docLink.innerHTML = docLinkHtml;\n",
              "        element.appendChild(docLink);\n",
              "      }\n",
              "    </script>\n",
              "  </div>\n",
              "\n",
              "\n",
              "<div id=\"df-6dcf01da-d4cf-490c-8d95-f61035525bd0\">\n",
              "  <button class=\"colab-df-quickchart\" onclick=\"quickchart('df-6dcf01da-d4cf-490c-8d95-f61035525bd0')\"\n",
              "            title=\"Suggest charts\"\n",
              "            style=\"display:none;\">\n",
              "\n",
              "<svg xmlns=\"http://www.w3.org/2000/svg\" height=\"24px\"viewBox=\"0 0 24 24\"\n",
              "     width=\"24px\">\n",
              "    <g>\n",
              "        <path d=\"M19 3H5c-1.1 0-2 .9-2 2v14c0 1.1.9 2 2 2h14c1.1 0 2-.9 2-2V5c0-1.1-.9-2-2-2zM9 17H7v-7h2v7zm4 0h-2V7h2v10zm4 0h-2v-4h2v4z\"/>\n",
              "    </g>\n",
              "</svg>\n",
              "  </button>\n",
              "\n",
              "<style>\n",
              "  .colab-df-quickchart {\n",
              "      --bg-color: #E8F0FE;\n",
              "      --fill-color: #1967D2;\n",
              "      --hover-bg-color: #E2EBFA;\n",
              "      --hover-fill-color: #174EA6;\n",
              "      --disabled-fill-color: #AAA;\n",
              "      --disabled-bg-color: #DDD;\n",
              "  }\n",
              "\n",
              "  [theme=dark] .colab-df-quickchart {\n",
              "      --bg-color: #3B4455;\n",
              "      --fill-color: #D2E3FC;\n",
              "      --hover-bg-color: #434B5C;\n",
              "      --hover-fill-color: #FFFFFF;\n",
              "      --disabled-bg-color: #3B4455;\n",
              "      --disabled-fill-color: #666;\n",
              "  }\n",
              "\n",
              "  .colab-df-quickchart {\n",
              "    background-color: var(--bg-color);\n",
              "    border: none;\n",
              "    border-radius: 50%;\n",
              "    cursor: pointer;\n",
              "    display: none;\n",
              "    fill: var(--fill-color);\n",
              "    height: 32px;\n",
              "    padding: 0;\n",
              "    width: 32px;\n",
              "  }\n",
              "\n",
              "  .colab-df-quickchart:hover {\n",
              "    background-color: var(--hover-bg-color);\n",
              "    box-shadow: 0 1px 2px rgba(60, 64, 67, 0.3), 0 1px 3px 1px rgba(60, 64, 67, 0.15);\n",
              "    fill: var(--button-hover-fill-color);\n",
              "  }\n",
              "\n",
              "  .colab-df-quickchart-complete:disabled,\n",
              "  .colab-df-quickchart-complete:disabled:hover {\n",
              "    background-color: var(--disabled-bg-color);\n",
              "    fill: var(--disabled-fill-color);\n",
              "    box-shadow: none;\n",
              "  }\n",
              "\n",
              "  .colab-df-spinner {\n",
              "    border: 2px solid var(--fill-color);\n",
              "    border-color: transparent;\n",
              "    border-bottom-color: var(--fill-color);\n",
              "    animation:\n",
              "      spin 1s steps(1) infinite;\n",
              "  }\n",
              "\n",
              "  @keyframes spin {\n",
              "    0% {\n",
              "      border-color: transparent;\n",
              "      border-bottom-color: var(--fill-color);\n",
              "      border-left-color: var(--fill-color);\n",
              "    }\n",
              "    20% {\n",
              "      border-color: transparent;\n",
              "      border-left-color: var(--fill-color);\n",
              "      border-top-color: var(--fill-color);\n",
              "    }\n",
              "    30% {\n",
              "      border-color: transparent;\n",
              "      border-left-color: var(--fill-color);\n",
              "      border-top-color: var(--fill-color);\n",
              "      border-right-color: var(--fill-color);\n",
              "    }\n",
              "    40% {\n",
              "      border-color: transparent;\n",
              "      border-right-color: var(--fill-color);\n",
              "      border-top-color: var(--fill-color);\n",
              "    }\n",
              "    60% {\n",
              "      border-color: transparent;\n",
              "      border-right-color: var(--fill-color);\n",
              "    }\n",
              "    80% {\n",
              "      border-color: transparent;\n",
              "      border-right-color: var(--fill-color);\n",
              "      border-bottom-color: var(--fill-color);\n",
              "    }\n",
              "    90% {\n",
              "      border-color: transparent;\n",
              "      border-bottom-color: var(--fill-color);\n",
              "    }\n",
              "  }\n",
              "</style>\n",
              "\n",
              "  <script>\n",
              "    async function quickchart(key) {\n",
              "      const quickchartButtonEl =\n",
              "        document.querySelector('#' + key + ' button');\n",
              "      quickchartButtonEl.disabled = true;  // To prevent multiple clicks.\n",
              "      quickchartButtonEl.classList.add('colab-df-spinner');\n",
              "      try {\n",
              "        const charts = await google.colab.kernel.invokeFunction(\n",
              "            'suggestCharts', [key], {});\n",
              "      } catch (error) {\n",
              "        console.error('Error during call to suggestCharts:', error);\n",
              "      }\n",
              "      quickchartButtonEl.classList.remove('colab-df-spinner');\n",
              "      quickchartButtonEl.classList.add('colab-df-quickchart-complete');\n",
              "    }\n",
              "    (() => {\n",
              "      let quickchartButtonEl =\n",
              "        document.querySelector('#df-6dcf01da-d4cf-490c-8d95-f61035525bd0 button');\n",
              "      quickchartButtonEl.style.display =\n",
              "        google.colab.kernel.accessAllowed ? 'block' : 'none';\n",
              "    })();\n",
              "  </script>\n",
              "</div>\n",
              "    </div>\n",
              "  </div>\n"
            ],
            "application/vnd.google.colaboratory.intrinsic+json": {
              "type": "dataframe",
              "variable_name": "df",
              "summary": "{\n  \"name\": \"df\",\n  \"rows\": 2,\n  \"fields\": [\n    {\n      \"column\": \"index\",\n      \"properties\": {\n        \"dtype\": \"number\",\n        \"std\": 0,\n        \"min\": 0,\n        \"max\": 1,\n        \"num_unique_values\": 2,\n        \"samples\": [\n          1,\n          0\n        ],\n        \"semantic_type\": \"\",\n        \"description\": \"\"\n      }\n    },\n    {\n      \"column\": \"title\\t\\\"issns\\\"\\t\\\"level\\\"\\t\\\"wos_cc\\\"\\t\\\"wos_update\\\"\\t\\\"scopus\\\"\\t\\\"srcid\\\"\\t\\\"sc_update\\\"\\t\\\"rsci\\\"\\t\\\"sherpa\\\"\\t\\\"sherpa_id\\\"\\t\\\"sherpa_update\\\"\\t\\\"ajg21\\\"\\t\\\"ajg_update\\\"\\t\\\"doaj\\\"\\t\\\"doaj_id\\\"\\t\\\"doaj_update\\\"\\t\\\"erih\\\"\\t\\\"erih_update\\\"\\t\\\"eclit\\\"\\t\\\"eclit_update\\\"\\t\\\"ecbiz\\\"\\t\\\"ecbiz_update\\\"\\t\\\"inspec\\\"\\t\\\"inspec_update\\\"\\t\\\"dblp\\\"\\t\\\"dblp_id\\\"\\t\\\"dblp_update\\\"\\t\\\"msn\\\"\\t\\\"msn_update\\\"\\t\\\"zbm\\\"\\t\\\"zbm_id\\\"\\t\\\"zbm_update\\\"\\t\\\"medline\\\"\\t\\\"medline_id\\\"\\t\\\"medline_update\\\"\\t\\\"embase\\\"\\t\\\"embase_update\\\"\\t\\\"agricola\\\"\\t\\\"agricola_update\\\"\\t\\\"cab\\\"\\t\\\"cab_update\\\"\\t\\\"cpx\\\"\\t\\\"cpx_update\\\"\\t\\\"georef\\\"\\t\\\"georef_update\\\"\\t\\\"geobase\\\"\\t\\\"geobase_update\\\"\\t\\\"oax\\\"\\t\\\"oax_id\\\"\\t\\\"oax_update\\\"\\t\\\"job\\\"\\t\\\"job_id\\\"\\t\\\"job_update\\\"\\t\\\"abdc22\\\"\\t\\\"abdc_update\\\"\\t\\\"sudoc\\\"\\t\\\"sudoc_id\\\"\\t\\\"sudoc_update\\\"\\t\\\"cref\\\"\\t\\\"cref_update\\\"\\t\\\"scilit\\\"\\t\\\"scilit_id\\\"\\t\\\"scilit_update\\\"\\t\\\"wikidata\\\"\\t\\\"wikidata_id\\\"\\t\\\"wikidata_update\\\"\\t\\\"fatcat\\\"\\t\\\"fatcat_id\\\"\\t\\\"fatcat_update\\\"\\t\\\"fsta\\\"\\t\\\"fsta_update\\\"\\t\\\"hsabs\\\"\\t\\\"hsabs_update\\\"\\t\\\"wpsa\\\"\\t\\\"wpsa_update\\\"\\t\\\"socabs\\\"\\t\\\"socabs_update\\\"\\t\\\"chim\\\"\\t\\\"chim_update\\\"\\t\\\"zoorec\\\"\\t\\\"zoorec_update\\\"\\t\\\"biabs\\\"\\t\\\"biabs_update\\\"\\t\\\"petro\\\"\\t\\\"petro_update\\\"\\t\\\"dnb\\\"\\t\\\"dnb_id (idn)\\\"\\t\\\"dnb_update\\\"\\t\\\"cas_core\\\"\\t\\\"coden\\\"\\t\\\"coden_update\\\"\\t\\\"date_accepted\\\"\\t\\\"date_discontinued\\\"\\t\\\"state\\\"\\t\\\"notice\\\"\",\n      \"properties\": {\n        \"dtype\": \"string\",\n        \"num_unique_values\": 2,\n        \"samples\": [\n          \"CYBERGEO - EUROPEAN JOURNAL OF GEOGRAPHY\\t\\\"1278-3366\\\"\\t\\\"2\\\"\\t\\\"Yes\\\"\\t\\\"04.10.2024\\\"\\t\\\"Yes\\\"\\t\\\"4800156303\\\"\\t\\\"01.09.2024\\\"\\t\\\"No\\\"\\t\\\"Yes\\\"\\t\\\"14330\\\"\\t\\\"10.10.2024\\\"\\t\\\"\\\"\\t\\\"\\\"\\t\\\"Yes\\\"\\t\\\"ca78c66fff1b4fbeabb34fd70a4fabf9\\\"\\t\\\"09.10.2024\\\"\\t\\\"Yes\\\"\\t\\\"18.10.2024\\\"\\t\\\"No\\\"\\t\\\"\\\"\\t\\\"No\\\"\\t\\\"\\\"\\t\\\"No\\\"\\t\\\"\\\"\\t\\\"No\\\"\\t\\\"\\\"\\t\\\"\\\"\\t\\\"No\\\"\\t\\\"\\\"\\t\\\"No\\\"\\t\\\"\\\"\\t\\\"\\\"\\t\\\"No\\\"\\t\\\"\\\"\\t\\\"\\\"\\t\\\"No\\\"\\t\\\"\\\"\\t\\\"No\\\"\\t\\\"\\\"\\t\\\"No\\\"\\t\\\"\\\"\\t\\\"No\\\"\\t\\\"\\\"\\t\\\"No\\\"\\t\\\"\\\"\\t\\\"Yes\\\"\\t\\\"18.10.2024\\\"\\t\\\"Yes\\\"\\t\\\"S4210172843\\\"\\t\\\"10.10.2024\\\"\\t\\\"No\\\"\\t\\\"\\\"\\t\\\"\\\"\\t\\\"\\\"\\t\\\"\\\"\\t\\\"Yes\\\"\\t\\\"040652920\\\"\\t\\\"16.04.2023\\\"\\t\\\"No\\\"\\t\\\"\\\"\\t\\\"Yes\\\"\\t\\\"16149\\\"\\t\\\"03.12.2022\\\"\\t\\\"Yes\\\"\\t\\\"Q3008153\\\"\\t\\\"27.03.2024\\\"\\t\\\"Yes\\\"\\t\\\"xzskhsan5fd63ftba2xl4blw3e\\\"\\t\\\"16.02.2024\\\"\\t\\\"No\\\"\\t\\\"\\\"\\t\\\"No\\\"\\t\\\"\\\"\\t\\\"No\\\"\\t\\\"\\\"\\t\\\"No\\\"\\t\\\"\\\"\\t\\\"No\\\"\\t\\\"\\\"\\t\\\"No\\\"\\t\\\"\\\"\\t\\\"No\\\"\\t\\\"\\\"\\t\\\"No\\\"\\t\\\"\\\"\\t\\\"Yes\\\"\\t\\\"019676360\\\"\\t\\\"15.05.2023\\\"\\t\\\"No\\\"\\t\\\"\\\"\\t\\\"\\\"\\t\\\"20.10.2022\\\"\\t\\\"\\\"\\t\\\"\\\"\\t\\\"\\\"\",\n          \"WIKIJOURNAL OF SCIENCE\\t\\\"2470-6345\\\"\\t\\\"4\\\"\\t\\\"No\\\"\\t\\\"\\\"\\t\\\"Yes\\\"\\t\\\"21101087358\\\"\\t\\\"01.09.2024\\\"\\t\\\"No\\\"\\t\\\"Yes\\\"\\t\\\"39135\\\"\\t\\\"10.10.2024\\\"\\t\\\"\\\"\\t\\\"\\\"\\t\\\"Yes\\\"\\t\\\"c22e89484ff04986ac0fb2cb2907dd04\\\"\\t\\\"09.10.2024\\\"\\t\\\"No\\\"\\t\\\"\\\"\\t\\\"No\\\"\\t\\\"\\\"\\t\\\"No\\\"\\t\\\"\\\"\\t\\\"No\\\"\\t\\\"\\\"\\t\\\"No\\\"\\t\\\"\\\"\\t\\\"\\\"\\t\\\"No\\\"\\t\\\"\\\"\\t\\\"No\\\"\\t\\\"\\\"\\t\\\"\\\"\\t\\\"No\\\"\\t\\\"\\\"\\t\\\"\\\"\\t\\\"No\\\"\\t\\\"\\\"\\t\\\"No\\\"\\t\\\"\\\"\\t\\\"No\\\"\\t\\\"\\\"\\t\\\"No\\\"\\t\\\"\\\"\\t\\\"No\\\"\\t\\\"\\\"\\t\\\"No\\\"\\t\\\"\\\"\\t\\\"Yes\\\"\\t\\\"S4210214053\\\"\\t\\\"10.10.2024\\\"\\t\\\"Yes\\\"\\t\\\"4e165e73-43cc-4e63-a6b1-f144499a2f27\\\"\\t\\\"10.10.2024\\\"\\t\\\"\\\"\\t\\\"\\\"\\t\\\"No\\\"\\t\\\"\\\"\\t\\\"\\\"\\t\\\"Yes\\\"\\t\\\"18.10.2024\\\"\\t\\\"Yes\\\"\\t\\\"86072\\\"\\t\\\"03.12.2022\\\"\\t\\\"Yes\\\"\\t\\\"Q22674854\\\"\\t\\\"27.03.2024\\\"\\t\\\"Yes\\\"\\t\\\"kjuq2lntnvdefc5xzhq2npe5he\\\"\\t\\\"16.02.2024\\\"\\t\\\"No\\\"\\t\\\"\\\"\\t\\\"No\\\"\\t\\\"\\\"\\t\\\"No\\\"\\t\\\"\\\"\\t\\\"No\\\"\\t\\\"\\\"\\t\\\"No\\\"\\t\\\"\\\"\\t\\\"No\\\"\\t\\\"\\\"\\t\\\"No\\\"\\t\\\"\\\"\\t\\\"No\\\"\\t\\\"\\\"\\t\\\"Yes\\\"\\t\\\"1190203669\\\"\\t\\\"15.05.2023\\\"\\t\\\"No\\\"\\t\\\"\\\"\\t\\\"\\\"\\t\\\"20.10.2022\\\"\\t\\\"\\\"\\t\\\"\\\"\\t\\\"\\\"\"\n        ],\n        \"semantic_type\": \"\",\n        \"description\": \"\"\n      }\n    }\n  ]\n}"
            }
          },
          "metadata": {},
          "execution_count": 1
        }
      ]
    },
    {
      "cell_type": "markdown",
      "metadata": {
        "id": "ZGkE9cgJ_5fN"
      },
      "source": [
        "#**API Content**\n",
        "\n",
        "The reponse of the HTTP API GET request has some valuable information i.e..Payload in the message body. Using the attributes of Response, you can view the payload in many different formats.\n",
        "\n",
        "Bytes (.Content)"
      ]
    },
    {
      "cell_type": "code",
      "metadata": {
        "id": "Hq3p3UtyBIW-",
        "colab": {
          "base_uri": "https://localhost:8080/",
          "height": 141
        },
        "outputId": "2cc94c3d-1889-404b-bfb8-68dce58c93f9"
      },
      "source": [
        "response = requests.get('https://journalrank.rcsi.science/api')\n",
        "# response.content  # give you the content in raw bytes of the response payload\n",
        "response.text # convert into a string using encoding like UTF-8"
      ],
      "execution_count": null,
      "outputs": [
        {
          "output_type": "execute_result",
          "data": {
            "text/plain": [
              "'<!DOCTYPE html><html lang=ru culture=ru><head><meta charset=utf-8><meta name=viewport content=\"width=device-width, initial-scale=1, shrink-to-fit=no\"><meta name=app:version content=1.18.7><link rel=\"shortcut icon\" type=image/x-icon href=\"/assets/images/favicon.ico?v=mQrgI-KrDu3EDMvgsWUihX1x6HiAgklTkp3S0wcOgkU\"><link rel=icon type=image/x-icon href=\"/assets/images/favicon.ico?v=mQrgI-KrDu3EDMvgsWUihX1x6HiAgklTkp3S0wcOgkU\"><title>Запрашиваемая страница не найдена</title><link rel=stylesheet href=\"/assets/css/fonts/fonts.min.css?v=w5M7stlydCa7viDSVSQ6fs0rbQ2M4ZI0d8KOhzivsvs\"><link rel=stylesheet href=\"/assets/css/vendors/vendors.min.css?v=8sA9lLmyatE7LsjB54K1HKiQgOErogd6CnG2q52ayGw\"><link rel=stylesheet href=\"/assets/css/app/app.min.css?v=z85AykGwXG0ZZ-PnCl30OrWovoctZgy_07GGCqySZHI\"></head><body class=site-error-bg><div class=browser-update><noindex><p class=browser-update-message>Вы используете устаревший браузер. Пожалуйста, обновите браузер для эффективной работы с сайтом.</p><ul class=browser-update-list><li class=browser-update-list-item><a href=\"https://www.google.com/chrome/\" rel=nofollow target=_blank>Google Chrome</a></li><li class=browser-update-list-item><a href=\"https://www.mozilla.org/firefox/\" rel=nofollow target=_blank>Mozilla Firefox</a></li><li class=browser-update-list-item><a href=\"https://www.opera.com/\" rel=nofollow target=_blank>Opera</a></li><li class=browser-update-list-item><a href=https://www.microsoft.com/edge rel=nofollow target=_blank>Microsoft Edge</a></li><li class=browser-update-list-item><a href=\"https://www.apple.com/safari/\" rel=nofollow target=_blank>Safari</a></li><li class=browser-update-list-item><a href=\"https://browser.yandex.ru/\" rel=nofollow target=_blank>Яндекс Браузер</a></li></ul></noindex></div><div class=\"ht-100v d-flex align-items-center justify-content-center\"><div class=tx-center><h1 class=\"tx-xs-100 tx-sm-120 tx-md-140 tx-primary mg-0\">404</h1><h5 class=\"tx-xs-18 tx-sm-24 tx-normal mg-b-20\">Запрашиваемая страница не найдена</h5><p class=\"tx-xs-12 tx-sm-14 tx-gray-700 mg-b-40\"><span class=\"bd-b bd-dotted bd-t-0 bd-l-0 bd-r-0 bd-gray-400\">/ru/api/</span></p><p class=mg-b-60><a href=\"/\" class=\"btn btn-primary btn-labeled\" type=button title=\"Вернуться на главную страницу\"> <span class=\"btn-label btn-label-dark\"><i class=\"icon la la-arrow-left\"></i></span> <span class=btn-text>На главную страницу</span> </a></p></div></div><script src=\"/assets/js/vendors/browser-update.min.js?v=6LNhsFraqB6UzTre7hFSa_66xCG7x93jVFtvnEEziQg\"></script></body></html>'"
            ],
            "application/vnd.google.colaboratory.intrinsic+json": {
              "type": "string"
            }
          },
          "metadata": {},
          "execution_count": 9
        }
      ]
    },
    {
      "cell_type": "markdown",
      "metadata": {
        "id": "9QA-56HyC48o"
      },
      "source": [
        "Decoding bytes to a string requires an encoding scheme. request will try to guess encoding based upon the response headers if not specified.  Set encoding BEFORE accessing .text"
      ]
    },
    {
      "cell_type": "code",
      "metadata": {
        "id": "2bwpo7nVCQnL",
        "colab": {
          "base_uri": "https://localhost:8080/",
          "height": 141
        },
        "outputId": "d50e38dc-8f05-462c-cb37-12286853a9a7"
      },
      "source": [
        "response.encoding = 'utf-8'  #optional enciding parameter.  requests infers this\n",
        "response.text"
      ],
      "execution_count": null,
      "outputs": [
        {
          "output_type": "execute_result",
          "data": {
            "text/plain": [
              "'<!DOCTYPE html><html lang=ru culture=ru><head><meta charset=utf-8><meta name=viewport content=\"width=device-width, initial-scale=1, shrink-to-fit=no\"><meta name=app:version content=1.18.7><link rel=\"shortcut icon\" type=image/x-icon href=\"/assets/images/favicon.ico?v=mQrgI-KrDu3EDMvgsWUihX1x6HiAgklTkp3S0wcOgkU\"><link rel=icon type=image/x-icon href=\"/assets/images/favicon.ico?v=mQrgI-KrDu3EDMvgsWUihX1x6HiAgklTkp3S0wcOgkU\"><title>Запрашиваемая страница не найдена</title><link rel=stylesheet href=\"/assets/css/fonts/fonts.min.css?v=w5M7stlydCa7viDSVSQ6fs0rbQ2M4ZI0d8KOhzivsvs\"><link rel=stylesheet href=\"/assets/css/vendors/vendors.min.css?v=8sA9lLmyatE7LsjB54K1HKiQgOErogd6CnG2q52ayGw\"><link rel=stylesheet href=\"/assets/css/app/app.min.css?v=z85AykGwXG0ZZ-PnCl30OrWovoctZgy_07GGCqySZHI\"></head><body class=site-error-bg><div class=browser-update><noindex><p class=browser-update-message>Вы используете устаревший браузер. Пожалуйста, обновите браузер для эффективной работы с сайтом.</p><ul class=browser-update-list><li class=browser-update-list-item><a href=\"https://www.google.com/chrome/\" rel=nofollow target=_blank>Google Chrome</a></li><li class=browser-update-list-item><a href=\"https://www.mozilla.org/firefox/\" rel=nofollow target=_blank>Mozilla Firefox</a></li><li class=browser-update-list-item><a href=\"https://www.opera.com/\" rel=nofollow target=_blank>Opera</a></li><li class=browser-update-list-item><a href=https://www.microsoft.com/edge rel=nofollow target=_blank>Microsoft Edge</a></li><li class=browser-update-list-item><a href=\"https://www.apple.com/safari/\" rel=nofollow target=_blank>Safari</a></li><li class=browser-update-list-item><a href=\"https://browser.yandex.ru/\" rel=nofollow target=_blank>Яндекс Браузер</a></li></ul></noindex></div><div class=\"ht-100v d-flex align-items-center justify-content-center\"><div class=tx-center><h1 class=\"tx-xs-100 tx-sm-120 tx-md-140 tx-primary mg-0\">404</h1><h5 class=\"tx-xs-18 tx-sm-24 tx-normal mg-b-20\">Запрашиваемая страница не найдена</h5><p class=\"tx-xs-12 tx-sm-14 tx-gray-700 mg-b-40\"><span class=\"bd-b bd-dotted bd-t-0 bd-l-0 bd-r-0 bd-gray-400\">/ru/api/</span></p><p class=mg-b-60><a href=\"/\" class=\"btn btn-primary btn-labeled\" type=button title=\"Вернуться на главную страницу\"> <span class=\"btn-label btn-label-dark\"><i class=\"icon la la-arrow-left\"></i></span> <span class=btn-text>На главную страницу</span> </a></p></div></div><script src=\"/assets/js/vendors/browser-update.min.js?v=6LNhsFraqB6UzTre7hFSa_66xCG7x93jVFtvnEEziQg\"></script></body></html>'"
            ],
            "application/vnd.google.colaboratory.intrinsic+json": {
              "type": "string"
            }
          },
          "metadata": {},
          "execution_count": 10
        }
      ]
    },
    {
      "cell_type": "markdown",
      "metadata": {
        "id": "oeLRGuUPDz4V"
      },
      "source": [
        "##**Serialized JSON content**\n",
        "Hey look Ma, it's JSON.....Let's view some rea-life JSON\n",
        "\n",
        "![alt text](https://encrypted-tbn0.gstatic.com/images?q=tbn:ANd9GcQt00IECBfWRzEFyW6D6dDnCvjuEt4MlTdF3WYi0IWg-_12ayXM&s)\n",
        "\n"
      ]
    },
    {
      "cell_type": "code",
      "metadata": {
        "id": "SEiZH3f2EQTL",
        "outputId": "1bd99a6d-0b16-47ad-e3b1-5123124e9a6a",
        "colab": {
          "base_uri": "https://localhost:8080/",
          "height": 415
        }
      },
      "source": [
        "response.json()  # this will show you serialized JSON content (See below).  to get a dictionary, you could take the str you received from .text and deserialize it (json.loads())\n",
        "# much simplier to use .json(). the \"type\" of the return value .json() is a dictionary so you can access values i the object via the 'key'"
      ],
      "execution_count": null,
      "outputs": [
        {
          "output_type": "error",
          "ename": "JSONDecodeError",
          "evalue": "Expecting value: line 1 column 1 (char 0)",
          "traceback": [
            "\u001b[0;31m---------------------------------------------------------------------------\u001b[0m",
            "\u001b[0;31mJSONDecodeError\u001b[0m                           Traceback (most recent call last)",
            "\u001b[0;32m/usr/local/lib/python3.10/dist-packages/requests/models.py\u001b[0m in \u001b[0;36mjson\u001b[0;34m(self, **kwargs)\u001b[0m\n\u001b[1;32m    973\u001b[0m         \u001b[0;32mtry\u001b[0m\u001b[0;34m:\u001b[0m\u001b[0;34m\u001b[0m\u001b[0;34m\u001b[0m\u001b[0m\n\u001b[0;32m--> 974\u001b[0;31m             \u001b[0;32mreturn\u001b[0m \u001b[0mcomplexjson\u001b[0m\u001b[0;34m.\u001b[0m\u001b[0mloads\u001b[0m\u001b[0;34m(\u001b[0m\u001b[0mself\u001b[0m\u001b[0;34m.\u001b[0m\u001b[0mtext\u001b[0m\u001b[0;34m,\u001b[0m \u001b[0;34m**\u001b[0m\u001b[0mkwargs\u001b[0m\u001b[0;34m)\u001b[0m\u001b[0;34m\u001b[0m\u001b[0;34m\u001b[0m\u001b[0m\n\u001b[0m\u001b[1;32m    975\u001b[0m         \u001b[0;32mexcept\u001b[0m \u001b[0mJSONDecodeError\u001b[0m \u001b[0;32mas\u001b[0m \u001b[0me\u001b[0m\u001b[0;34m:\u001b[0m\u001b[0;34m\u001b[0m\u001b[0;34m\u001b[0m\u001b[0m\n",
            "\u001b[0;32m/usr/lib/python3.10/json/__init__.py\u001b[0m in \u001b[0;36mloads\u001b[0;34m(s, cls, object_hook, parse_float, parse_int, parse_constant, object_pairs_hook, **kw)\u001b[0m\n\u001b[1;32m    345\u001b[0m             parse_constant is None and object_pairs_hook is None and not kw):\n\u001b[0;32m--> 346\u001b[0;31m         \u001b[0;32mreturn\u001b[0m \u001b[0m_default_decoder\u001b[0m\u001b[0;34m.\u001b[0m\u001b[0mdecode\u001b[0m\u001b[0;34m(\u001b[0m\u001b[0ms\u001b[0m\u001b[0;34m)\u001b[0m\u001b[0;34m\u001b[0m\u001b[0;34m\u001b[0m\u001b[0m\n\u001b[0m\u001b[1;32m    347\u001b[0m     \u001b[0;32mif\u001b[0m \u001b[0mcls\u001b[0m \u001b[0;32mis\u001b[0m \u001b[0;32mNone\u001b[0m\u001b[0;34m:\u001b[0m\u001b[0;34m\u001b[0m\u001b[0;34m\u001b[0m\u001b[0m\n",
            "\u001b[0;32m/usr/lib/python3.10/json/decoder.py\u001b[0m in \u001b[0;36mdecode\u001b[0;34m(self, s, _w)\u001b[0m\n\u001b[1;32m    336\u001b[0m         \"\"\"\n\u001b[0;32m--> 337\u001b[0;31m         \u001b[0mobj\u001b[0m\u001b[0;34m,\u001b[0m \u001b[0mend\u001b[0m \u001b[0;34m=\u001b[0m \u001b[0mself\u001b[0m\u001b[0;34m.\u001b[0m\u001b[0mraw_decode\u001b[0m\u001b[0;34m(\u001b[0m\u001b[0ms\u001b[0m\u001b[0;34m,\u001b[0m \u001b[0midx\u001b[0m\u001b[0;34m=\u001b[0m\u001b[0m_w\u001b[0m\u001b[0;34m(\u001b[0m\u001b[0ms\u001b[0m\u001b[0;34m,\u001b[0m \u001b[0;36m0\u001b[0m\u001b[0;34m)\u001b[0m\u001b[0;34m.\u001b[0m\u001b[0mend\u001b[0m\u001b[0;34m(\u001b[0m\u001b[0;34m)\u001b[0m\u001b[0;34m)\u001b[0m\u001b[0;34m\u001b[0m\u001b[0;34m\u001b[0m\u001b[0m\n\u001b[0m\u001b[1;32m    338\u001b[0m         \u001b[0mend\u001b[0m \u001b[0;34m=\u001b[0m \u001b[0m_w\u001b[0m\u001b[0;34m(\u001b[0m\u001b[0ms\u001b[0m\u001b[0;34m,\u001b[0m \u001b[0mend\u001b[0m\u001b[0;34m)\u001b[0m\u001b[0;34m.\u001b[0m\u001b[0mend\u001b[0m\u001b[0;34m(\u001b[0m\u001b[0;34m)\u001b[0m\u001b[0;34m\u001b[0m\u001b[0;34m\u001b[0m\u001b[0m\n",
            "\u001b[0;32m/usr/lib/python3.10/json/decoder.py\u001b[0m in \u001b[0;36mraw_decode\u001b[0;34m(self, s, idx)\u001b[0m\n\u001b[1;32m    354\u001b[0m         \u001b[0;32mexcept\u001b[0m \u001b[0mStopIteration\u001b[0m \u001b[0;32mas\u001b[0m \u001b[0merr\u001b[0m\u001b[0;34m:\u001b[0m\u001b[0;34m\u001b[0m\u001b[0;34m\u001b[0m\u001b[0m\n\u001b[0;32m--> 355\u001b[0;31m             \u001b[0;32mraise\u001b[0m \u001b[0mJSONDecodeError\u001b[0m\u001b[0;34m(\u001b[0m\u001b[0;34m\"Expecting value\"\u001b[0m\u001b[0;34m,\u001b[0m \u001b[0ms\u001b[0m\u001b[0;34m,\u001b[0m \u001b[0merr\u001b[0m\u001b[0;34m.\u001b[0m\u001b[0mvalue\u001b[0m\u001b[0;34m)\u001b[0m \u001b[0;32mfrom\u001b[0m \u001b[0;32mNone\u001b[0m\u001b[0;34m\u001b[0m\u001b[0;34m\u001b[0m\u001b[0m\n\u001b[0m\u001b[1;32m    356\u001b[0m         \u001b[0;32mreturn\u001b[0m \u001b[0mobj\u001b[0m\u001b[0;34m,\u001b[0m \u001b[0mend\u001b[0m\u001b[0;34m\u001b[0m\u001b[0;34m\u001b[0m\u001b[0m\n",
            "\u001b[0;31mJSONDecodeError\u001b[0m: Expecting value: line 1 column 1 (char 0)",
            "\nDuring handling of the above exception, another exception occurred:\n",
            "\u001b[0;31mJSONDecodeError\u001b[0m                           Traceback (most recent call last)",
            "\u001b[0;32m<ipython-input-11-e039e147aa75>\u001b[0m in \u001b[0;36m<cell line: 1>\u001b[0;34m()\u001b[0m\n\u001b[0;32m----> 1\u001b[0;31m \u001b[0mresponse\u001b[0m\u001b[0;34m.\u001b[0m\u001b[0mjson\u001b[0m\u001b[0;34m(\u001b[0m\u001b[0;34m)\u001b[0m  \u001b[0;31m# this will show you serialized JSON content (See below).  to get a dictionary, you could take the str you received from .text and deserialize it (json.loads())\u001b[0m\u001b[0;34m\u001b[0m\u001b[0;34m\u001b[0m\u001b[0m\n\u001b[0m\u001b[1;32m      2\u001b[0m \u001b[0;31m# much simplier to use .json(). the \"type\" of the return value .json() is a dictionary so you can access values i the object via the 'key'\u001b[0m\u001b[0;34m\u001b[0m\u001b[0;34m\u001b[0m\u001b[0m\n",
            "\u001b[0;32m/usr/local/lib/python3.10/dist-packages/requests/models.py\u001b[0m in \u001b[0;36mjson\u001b[0;34m(self, **kwargs)\u001b[0m\n\u001b[1;32m    976\u001b[0m             \u001b[0;31m# Catch JSON-related errors and raise as requests.JSONDecodeError\u001b[0m\u001b[0;34m\u001b[0m\u001b[0;34m\u001b[0m\u001b[0m\n\u001b[1;32m    977\u001b[0m             \u001b[0;31m# This aliases json.JSONDecodeError and simplejson.JSONDecodeError\u001b[0m\u001b[0;34m\u001b[0m\u001b[0;34m\u001b[0m\u001b[0m\n\u001b[0;32m--> 978\u001b[0;31m             \u001b[0;32mraise\u001b[0m \u001b[0mRequestsJSONDecodeError\u001b[0m\u001b[0;34m(\u001b[0m\u001b[0me\u001b[0m\u001b[0;34m.\u001b[0m\u001b[0mmsg\u001b[0m\u001b[0;34m,\u001b[0m \u001b[0me\u001b[0m\u001b[0;34m.\u001b[0m\u001b[0mdoc\u001b[0m\u001b[0;34m,\u001b[0m \u001b[0me\u001b[0m\u001b[0;34m.\u001b[0m\u001b[0mpos\u001b[0m\u001b[0;34m)\u001b[0m\u001b[0;34m\u001b[0m\u001b[0;34m\u001b[0m\u001b[0m\n\u001b[0m\u001b[1;32m    979\u001b[0m \u001b[0;34m\u001b[0m\u001b[0m\n\u001b[1;32m    980\u001b[0m     \u001b[0;34m@\u001b[0m\u001b[0mproperty\u001b[0m\u001b[0;34m\u001b[0m\u001b[0;34m\u001b[0m\u001b[0m\n",
            "\u001b[0;31mJSONDecodeError\u001b[0m: Expecting value: line 1 column 1 (char 0)"
          ]
        }
      ]
    },
    {
      "cell_type": "markdown",
      "metadata": {
        "id": "2SaLF8JDZvnC"
      },
      "source": [
        "**NOTE**: you can do a alot with status codes and message bodies, but in order to get more infomration, like METADATA about the response itself, you will need to review the response headers."
      ]
    },
    {
      "cell_type": "markdown",
      "metadata": {
        "id": "y012rcnXaLcD"
      },
      "source": [
        "##**API Response Headers**\n",
        "\n",
        "The repsonse headers can provide lots of useful information such as content-type of the response payload, time-limit on how long to Cache the response etc..The View these headers, access (.headers)"
      ]
    },
    {
      "cell_type": "code",
      "metadata": {
        "id": "IA-pTr1DafPb",
        "outputId": "38467963-afc5-47dc-9a4b-69651fe7b2d5",
        "colab": {
          "base_uri": "https://localhost:8080/",
          "height": 54
        }
      },
      "source": [
        "response.headers"
      ],
      "execution_count": null,
      "outputs": [
        {
          "output_type": "execute_result",
          "data": {
            "text/plain": [
              "{'Server': 'GitHub.com', 'Date': 'Fri, 20 Dec 2019 22:39:19 GMT', 'Content-Type': 'application/json; charset=utf-8', 'Transfer-Encoding': 'chunked', 'Status': '200 OK', 'X-RateLimit-Limit': '60', 'X-RateLimit-Remaining': '55', 'X-RateLimit-Reset': '1576885158', 'Cache-Control': 'public, max-age=60, s-maxage=60', 'Vary': 'Accept', 'ETag': 'W/\"307bf49b7e1b8e6fe4ef622d609665e1\"', 'X-GitHub-Media-Type': 'github.v3; format=json', 'Access-Control-Expose-Headers': 'ETag, Link, Location, Retry-After, X-GitHub-OTP, X-RateLimit-Limit, X-RateLimit-Remaining, X-RateLimit-Reset, X-OAuth-Scopes, X-Accepted-OAuth-Scopes, X-Poll-Interval, X-GitHub-Media-Type', 'Access-Control-Allow-Origin': '*', 'Strict-Transport-Security': 'max-age=31536000; includeSubdomains; preload', 'X-Frame-Options': 'deny', 'X-Content-Type-Options': 'nosniff', 'X-XSS-Protection': '1; mode=block', 'Referrer-Policy': 'origin-when-cross-origin, strict-origin-when-cross-origin', 'Content-Security-Policy': \"default-src 'none'\", 'Content-Encoding': 'gzip', 'X-GitHub-Request-Id': 'CAAE:04B5:146FDD9:280FBED:5DFD4D97'}"
            ]
          },
          "metadata": {
            "tags": []
          },
          "execution_count": 12
        }
      ]
    },
    {
      "cell_type": "code",
      "metadata": {
        "id": "zxMe9X_h8Kl7",
        "outputId": "12309e60-e9f1-4876-ac04-adabb4c53b12",
        "colab": {
          "base_uri": "https://localhost:8080/",
          "height": 34
        }
      },
      "source": [
        "response.headers['content-Type']  # Accesing the key to content-type METADATA header.   NOT Case sensitive"
      ],
      "execution_count": null,
      "outputs": [
        {
          "output_type": "execute_result",
          "data": {
            "text/plain": [
              "'application/json; charset=utf-8'"
            ]
          },
          "metadata": {
            "tags": []
          },
          "execution_count": 13
        }
      ]
    },
    {
      "cell_type": "code",
      "metadata": {
        "id": "bLTNPdFHdsqz",
        "colab": {
          "base_uri": "https://localhost:8080/",
          "height": 34
        },
        "outputId": "5f202f56-9bd2-4ad8-aaee-828fb411ef52"
      },
      "source": [
        "response.headers['X-RateLimit-Remaining']"
      ],
      "execution_count": null,
      "outputs": [
        {
          "output_type": "execute_result",
          "data": {
            "text/plain": [
              "'55'"
            ]
          },
          "metadata": {
            "tags": []
          },
          "execution_count": 14
        }
      ]
    },
    {
      "cell_type": "markdown",
      "metadata": {
        "id": "or12vCCvt0ZN"
      },
      "source": [
        "##**Maniupulating Query parameters (params)**"
      ]
    }
  ]
}