{
  "nbformat": 4,
  "nbformat_minor": 0,
  "metadata": {
    "colab": {
      "name": "Python HTTP Requests for Humans.ipynb",
      "provenance": [],
      "include_colab_link": true
    },
    "kernelspec": {
      "name": "python3",
      "display_name": "Python 3"
    }
  },
  "cells": [
    {
      "cell_type": "markdown",
      "metadata": {
        "id": "view-in-github",
        "colab_type": "text"
      },
      "source": [
        "<a href=\"https://colab.research.google.com/github/componavt/ProJouRu/blob/main/src/old/api.ipynb\" target=\"_parent\"><img src=\"https://colab.research.google.com/assets/colab-badge.svg\" alt=\"Open In Colab\"/></a>"
      ]
    },
    {
      "cell_type": "markdown",
      "metadata": {
        "id": "vaNrp4OLqCBF"
      },
      "source": [
        "#**ProJouRu (JOUrnal RUssian whitelist)**\n",
        "\n",
        "ProJouRu (проЖору) - about [White list of scientific journals](https://journalrank.rcsi.science) in Russia.\n",
        "\n",
        "Links:\n",
        "*   [Python HTTP Request Library](https://colab.research.google.com/github/vlx300/kb_colab/blob/master/Python_HTTP_Requests_for_Humans.ipynb)\n",
        "\n",
        "White list of scientific journals in Russia links:\n",
        "*   [Whitelist of journals](https://journalrank.rcsi.science/ru/api-docs/docs/) - API documentation\n",
        "\n",
        "![alt text](https://upload.wikimedia.org/wikipedia/commons/thumb/a/a6/Toicon-icon-stone-serve.svg/240px-Toicon-icon-stone-serve.svg.png)"
      ]
    },
    {
      "cell_type": "code",
      "metadata": {
        "id": "0KeyRlYQnFUq",
        "outputId": "8c650b0c-19ff-4375-caa2-b7862faacf75",
        "colab": {
          "base_uri": "https://localhost:8080/"
        }
      },
      "source": [
        "import requests\n",
        "\n",
        "# Make an API call  and store the response #\n",
        "url = 'https://journalrank.rcsi.science/api'\n",
        "r = requests.get(url)\n",
        "print(\"Status code:\", r.status_code, \"; status_code == 200 is OK\")"
      ],
      "execution_count": null,
      "outputs": [
        {
          "output_type": "stream",
          "name": "stdout",
          "text": [
            "Status code: 200 ; status_code == 200 is OK\n"
          ]
        }
      ]
    },
    {
      "cell_type": "code",
      "metadata": {
        "id": "B1-t_Pn_vCGl"
      },
      "source": [
        "response = requests.get('https://journalrank.rcsi.science/api')"
      ],
      "execution_count": null,
      "outputs": []
    },
    {
      "cell_type": "markdown",
      "metadata": {
        "id": "YdYYaymIvXdV"
      },
      "source": [
        "In this example, you've captured the \"return value\" of GET(), which is an instance of response, and store it in a variable called response. Now you can use response to see alot of information about the results of your GET request."
      ]
    },
    {
      "cell_type": "code",
      "metadata": {
        "id": "Uce7N9bCymq4",
        "outputId": "ed5dbcd0-10bd-4e16-e3a6-4acb80129434",
        "colab": {
          "base_uri": "https://localhost:8080/"
        }
      },
      "source": [
        "if response.status_code == 200:\n",
        "  print(\"Success\")\n",
        "elif response.status_code == 400:\n",
        "  print(\"Not Found\")\n",
        "elif response.status_code == 302:\n",
        "  print(\"Follow Redirect\")\n",
        "elif response.status_code == 302:\n",
        "  print(\"Not Authorized\")"
      ],
      "execution_count": null,
      "outputs": [
        {
          "output_type": "stream",
          "name": "stdout",
          "text": [
            "Success\n"
          ]
        }
      ]
    },
    {
      "cell_type": "code",
      "metadata": {
        "id": "_zkWd9Ls16rB",
        "outputId": "97753ba3-20a3-44c1-8390-0ff6d4cebb48",
        "colab": {
          "base_uri": "https://localhost:8080/",
          "height": 34
        }
      },
      "source": [
        "if response:\n",
        "  print(\"Success\")\n",
        "else:\n",
        "  print('An error has occured')"
      ],
      "execution_count": null,
      "outputs": [
        {
          "output_type": "stream",
          "text": [
            "Success\n"
          ],
          "name": "stdout"
        }
      ]
    },
    {
      "cell_type": "markdown",
      "metadata": {
        "id": "ZGkE9cgJ_5fN"
      },
      "source": [
        "#**API Content**\n",
        "\n",
        "The reponse of the HTTP API GET request has some valuable information i.e..Payload in the message body. Using the attributes of Response, you can view the payload in many different formats.\n",
        "\n",
        "Bytes (.Content)"
      ]
    },
    {
      "cell_type": "code",
      "metadata": {
        "id": "Hq3p3UtyBIW-",
        "colab": {
          "base_uri": "https://localhost:8080/",
          "height": 141
        },
        "outputId": "2cc94c3d-1889-404b-bfb8-68dce58c93f9"
      },
      "source": [
        "response = requests.get('https://journalrank.rcsi.science/api')\n",
        "# response.content  # give you the content in raw bytes of the response payload\n",
        "response.text # convert into a string using encoding like UTF-8"
      ],
      "execution_count": null,
      "outputs": [
        {
          "output_type": "execute_result",
          "data": {
            "text/plain": [
              "'<!DOCTYPE html><html lang=ru culture=ru><head><meta charset=utf-8><meta name=viewport content=\"width=device-width, initial-scale=1, shrink-to-fit=no\"><meta name=app:version content=1.18.7><link rel=\"shortcut icon\" type=image/x-icon href=\"/assets/images/favicon.ico?v=mQrgI-KrDu3EDMvgsWUihX1x6HiAgklTkp3S0wcOgkU\"><link rel=icon type=image/x-icon href=\"/assets/images/favicon.ico?v=mQrgI-KrDu3EDMvgsWUihX1x6HiAgklTkp3S0wcOgkU\"><title>Запрашиваемая страница не найдена</title><link rel=stylesheet href=\"/assets/css/fonts/fonts.min.css?v=w5M7stlydCa7viDSVSQ6fs0rbQ2M4ZI0d8KOhzivsvs\"><link rel=stylesheet href=\"/assets/css/vendors/vendors.min.css?v=8sA9lLmyatE7LsjB54K1HKiQgOErogd6CnG2q52ayGw\"><link rel=stylesheet href=\"/assets/css/app/app.min.css?v=z85AykGwXG0ZZ-PnCl30OrWovoctZgy_07GGCqySZHI\"></head><body class=site-error-bg><div class=browser-update><noindex><p class=browser-update-message>Вы используете устаревший браузер. Пожалуйста, обновите браузер для эффективной работы с сайтом.</p><ul class=browser-update-list><li class=browser-update-list-item><a href=\"https://www.google.com/chrome/\" rel=nofollow target=_blank>Google Chrome</a></li><li class=browser-update-list-item><a href=\"https://www.mozilla.org/firefox/\" rel=nofollow target=_blank>Mozilla Firefox</a></li><li class=browser-update-list-item><a href=\"https://www.opera.com/\" rel=nofollow target=_blank>Opera</a></li><li class=browser-update-list-item><a href=https://www.microsoft.com/edge rel=nofollow target=_blank>Microsoft Edge</a></li><li class=browser-update-list-item><a href=\"https://www.apple.com/safari/\" rel=nofollow target=_blank>Safari</a></li><li class=browser-update-list-item><a href=\"https://browser.yandex.ru/\" rel=nofollow target=_blank>Яндекс Браузер</a></li></ul></noindex></div><div class=\"ht-100v d-flex align-items-center justify-content-center\"><div class=tx-center><h1 class=\"tx-xs-100 tx-sm-120 tx-md-140 tx-primary mg-0\">404</h1><h5 class=\"tx-xs-18 tx-sm-24 tx-normal mg-b-20\">Запрашиваемая страница не найдена</h5><p class=\"tx-xs-12 tx-sm-14 tx-gray-700 mg-b-40\"><span class=\"bd-b bd-dotted bd-t-0 bd-l-0 bd-r-0 bd-gray-400\">/ru/api/</span></p><p class=mg-b-60><a href=\"/\" class=\"btn btn-primary btn-labeled\" type=button title=\"Вернуться на главную страницу\"> <span class=\"btn-label btn-label-dark\"><i class=\"icon la la-arrow-left\"></i></span> <span class=btn-text>На главную страницу</span> </a></p></div></div><script src=\"/assets/js/vendors/browser-update.min.js?v=6LNhsFraqB6UzTre7hFSa_66xCG7x93jVFtvnEEziQg\"></script></body></html>'"
            ],
            "application/vnd.google.colaboratory.intrinsic+json": {
              "type": "string"
            }
          },
          "metadata": {},
          "execution_count": 9
        }
      ]
    },
    {
      "cell_type": "markdown",
      "metadata": {
        "id": "9QA-56HyC48o"
      },
      "source": [
        "Decoding bytes to a string requires an encoding scheme. request will try to guess encoding based upon the response headers if not specified.  Set encoding BEFORE accessing .text"
      ]
    },
    {
      "cell_type": "code",
      "metadata": {
        "id": "2bwpo7nVCQnL",
        "colab": {
          "base_uri": "https://localhost:8080/",
          "height": 141
        },
        "outputId": "d50e38dc-8f05-462c-cb37-12286853a9a7"
      },
      "source": [
        "response.encoding = 'utf-8'  #optional enciding parameter.  requests infers this\n",
        "response.text"
      ],
      "execution_count": null,
      "outputs": [
        {
          "output_type": "execute_result",
          "data": {
            "text/plain": [
              "'<!DOCTYPE html><html lang=ru culture=ru><head><meta charset=utf-8><meta name=viewport content=\"width=device-width, initial-scale=1, shrink-to-fit=no\"><meta name=app:version content=1.18.7><link rel=\"shortcut icon\" type=image/x-icon href=\"/assets/images/favicon.ico?v=mQrgI-KrDu3EDMvgsWUihX1x6HiAgklTkp3S0wcOgkU\"><link rel=icon type=image/x-icon href=\"/assets/images/favicon.ico?v=mQrgI-KrDu3EDMvgsWUihX1x6HiAgklTkp3S0wcOgkU\"><title>Запрашиваемая страница не найдена</title><link rel=stylesheet href=\"/assets/css/fonts/fonts.min.css?v=w5M7stlydCa7viDSVSQ6fs0rbQ2M4ZI0d8KOhzivsvs\"><link rel=stylesheet href=\"/assets/css/vendors/vendors.min.css?v=8sA9lLmyatE7LsjB54K1HKiQgOErogd6CnG2q52ayGw\"><link rel=stylesheet href=\"/assets/css/app/app.min.css?v=z85AykGwXG0ZZ-PnCl30OrWovoctZgy_07GGCqySZHI\"></head><body class=site-error-bg><div class=browser-update><noindex><p class=browser-update-message>Вы используете устаревший браузер. Пожалуйста, обновите браузер для эффективной работы с сайтом.</p><ul class=browser-update-list><li class=browser-update-list-item><a href=\"https://www.google.com/chrome/\" rel=nofollow target=_blank>Google Chrome</a></li><li class=browser-update-list-item><a href=\"https://www.mozilla.org/firefox/\" rel=nofollow target=_blank>Mozilla Firefox</a></li><li class=browser-update-list-item><a href=\"https://www.opera.com/\" rel=nofollow target=_blank>Opera</a></li><li class=browser-update-list-item><a href=https://www.microsoft.com/edge rel=nofollow target=_blank>Microsoft Edge</a></li><li class=browser-update-list-item><a href=\"https://www.apple.com/safari/\" rel=nofollow target=_blank>Safari</a></li><li class=browser-update-list-item><a href=\"https://browser.yandex.ru/\" rel=nofollow target=_blank>Яндекс Браузер</a></li></ul></noindex></div><div class=\"ht-100v d-flex align-items-center justify-content-center\"><div class=tx-center><h1 class=\"tx-xs-100 tx-sm-120 tx-md-140 tx-primary mg-0\">404</h1><h5 class=\"tx-xs-18 tx-sm-24 tx-normal mg-b-20\">Запрашиваемая страница не найдена</h5><p class=\"tx-xs-12 tx-sm-14 tx-gray-700 mg-b-40\"><span class=\"bd-b bd-dotted bd-t-0 bd-l-0 bd-r-0 bd-gray-400\">/ru/api/</span></p><p class=mg-b-60><a href=\"/\" class=\"btn btn-primary btn-labeled\" type=button title=\"Вернуться на главную страницу\"> <span class=\"btn-label btn-label-dark\"><i class=\"icon la la-arrow-left\"></i></span> <span class=btn-text>На главную страницу</span> </a></p></div></div><script src=\"/assets/js/vendors/browser-update.min.js?v=6LNhsFraqB6UzTre7hFSa_66xCG7x93jVFtvnEEziQg\"></script></body></html>'"
            ],
            "application/vnd.google.colaboratory.intrinsic+json": {
              "type": "string"
            }
          },
          "metadata": {},
          "execution_count": 10
        }
      ]
    },
    {
      "cell_type": "markdown",
      "metadata": {
        "id": "oeLRGuUPDz4V"
      },
      "source": [
        "##**Serialized JSON content**\n",
        "Hey look Ma, it's JSON.....Let's view some rea-life JSON\n",
        "\n",
        "![alt text](https://encrypted-tbn0.gstatic.com/images?q=tbn:ANd9GcQt00IECBfWRzEFyW6D6dDnCvjuEt4MlTdF3WYi0IWg-_12ayXM&s)\n",
        "\n"
      ]
    },
    {
      "cell_type": "code",
      "metadata": {
        "id": "SEiZH3f2EQTL",
        "outputId": "1bd99a6d-0b16-47ad-e3b1-5123124e9a6a",
        "colab": {
          "base_uri": "https://localhost:8080/",
          "height": 415
        }
      },
      "source": [
        "response.json()  # this will show you serialized JSON content (See below).  to get a dictionary, you could take the str you received from .text and deserialize it (json.loads())\n",
        "# much simplier to use .json(). the \"type\" of the return value .json() is a dictionary so you can access values i the object via the 'key'"
      ],
      "execution_count": null,
      "outputs": [
        {
          "output_type": "error",
          "ename": "JSONDecodeError",
          "evalue": "Expecting value: line 1 column 1 (char 0)",
          "traceback": [
            "\u001b[0;31m---------------------------------------------------------------------------\u001b[0m",
            "\u001b[0;31mJSONDecodeError\u001b[0m                           Traceback (most recent call last)",
            "\u001b[0;32m/usr/local/lib/python3.10/dist-packages/requests/models.py\u001b[0m in \u001b[0;36mjson\u001b[0;34m(self, **kwargs)\u001b[0m\n\u001b[1;32m    973\u001b[0m         \u001b[0;32mtry\u001b[0m\u001b[0;34m:\u001b[0m\u001b[0;34m\u001b[0m\u001b[0;34m\u001b[0m\u001b[0m\n\u001b[0;32m--> 974\u001b[0;31m             \u001b[0;32mreturn\u001b[0m \u001b[0mcomplexjson\u001b[0m\u001b[0;34m.\u001b[0m\u001b[0mloads\u001b[0m\u001b[0;34m(\u001b[0m\u001b[0mself\u001b[0m\u001b[0;34m.\u001b[0m\u001b[0mtext\u001b[0m\u001b[0;34m,\u001b[0m \u001b[0;34m**\u001b[0m\u001b[0mkwargs\u001b[0m\u001b[0;34m)\u001b[0m\u001b[0;34m\u001b[0m\u001b[0;34m\u001b[0m\u001b[0m\n\u001b[0m\u001b[1;32m    975\u001b[0m         \u001b[0;32mexcept\u001b[0m \u001b[0mJSONDecodeError\u001b[0m \u001b[0;32mas\u001b[0m \u001b[0me\u001b[0m\u001b[0;34m:\u001b[0m\u001b[0;34m\u001b[0m\u001b[0;34m\u001b[0m\u001b[0m\n",
            "\u001b[0;32m/usr/lib/python3.10/json/__init__.py\u001b[0m in \u001b[0;36mloads\u001b[0;34m(s, cls, object_hook, parse_float, parse_int, parse_constant, object_pairs_hook, **kw)\u001b[0m\n\u001b[1;32m    345\u001b[0m             parse_constant is None and object_pairs_hook is None and not kw):\n\u001b[0;32m--> 346\u001b[0;31m         \u001b[0;32mreturn\u001b[0m \u001b[0m_default_decoder\u001b[0m\u001b[0;34m.\u001b[0m\u001b[0mdecode\u001b[0m\u001b[0;34m(\u001b[0m\u001b[0ms\u001b[0m\u001b[0;34m)\u001b[0m\u001b[0;34m\u001b[0m\u001b[0;34m\u001b[0m\u001b[0m\n\u001b[0m\u001b[1;32m    347\u001b[0m     \u001b[0;32mif\u001b[0m \u001b[0mcls\u001b[0m \u001b[0;32mis\u001b[0m \u001b[0;32mNone\u001b[0m\u001b[0;34m:\u001b[0m\u001b[0;34m\u001b[0m\u001b[0;34m\u001b[0m\u001b[0m\n",
            "\u001b[0;32m/usr/lib/python3.10/json/decoder.py\u001b[0m in \u001b[0;36mdecode\u001b[0;34m(self, s, _w)\u001b[0m\n\u001b[1;32m    336\u001b[0m         \"\"\"\n\u001b[0;32m--> 337\u001b[0;31m         \u001b[0mobj\u001b[0m\u001b[0;34m,\u001b[0m \u001b[0mend\u001b[0m \u001b[0;34m=\u001b[0m \u001b[0mself\u001b[0m\u001b[0;34m.\u001b[0m\u001b[0mraw_decode\u001b[0m\u001b[0;34m(\u001b[0m\u001b[0ms\u001b[0m\u001b[0;34m,\u001b[0m \u001b[0midx\u001b[0m\u001b[0;34m=\u001b[0m\u001b[0m_w\u001b[0m\u001b[0;34m(\u001b[0m\u001b[0ms\u001b[0m\u001b[0;34m,\u001b[0m \u001b[0;36m0\u001b[0m\u001b[0;34m)\u001b[0m\u001b[0;34m.\u001b[0m\u001b[0mend\u001b[0m\u001b[0;34m(\u001b[0m\u001b[0;34m)\u001b[0m\u001b[0;34m)\u001b[0m\u001b[0;34m\u001b[0m\u001b[0;34m\u001b[0m\u001b[0m\n\u001b[0m\u001b[1;32m    338\u001b[0m         \u001b[0mend\u001b[0m \u001b[0;34m=\u001b[0m \u001b[0m_w\u001b[0m\u001b[0;34m(\u001b[0m\u001b[0ms\u001b[0m\u001b[0;34m,\u001b[0m \u001b[0mend\u001b[0m\u001b[0;34m)\u001b[0m\u001b[0;34m.\u001b[0m\u001b[0mend\u001b[0m\u001b[0;34m(\u001b[0m\u001b[0;34m)\u001b[0m\u001b[0;34m\u001b[0m\u001b[0;34m\u001b[0m\u001b[0m\n",
            "\u001b[0;32m/usr/lib/python3.10/json/decoder.py\u001b[0m in \u001b[0;36mraw_decode\u001b[0;34m(self, s, idx)\u001b[0m\n\u001b[1;32m    354\u001b[0m         \u001b[0;32mexcept\u001b[0m \u001b[0mStopIteration\u001b[0m \u001b[0;32mas\u001b[0m \u001b[0merr\u001b[0m\u001b[0;34m:\u001b[0m\u001b[0;34m\u001b[0m\u001b[0;34m\u001b[0m\u001b[0m\n\u001b[0;32m--> 355\u001b[0;31m             \u001b[0;32mraise\u001b[0m \u001b[0mJSONDecodeError\u001b[0m\u001b[0;34m(\u001b[0m\u001b[0;34m\"Expecting value\"\u001b[0m\u001b[0;34m,\u001b[0m \u001b[0ms\u001b[0m\u001b[0;34m,\u001b[0m \u001b[0merr\u001b[0m\u001b[0;34m.\u001b[0m\u001b[0mvalue\u001b[0m\u001b[0;34m)\u001b[0m \u001b[0;32mfrom\u001b[0m \u001b[0;32mNone\u001b[0m\u001b[0;34m\u001b[0m\u001b[0;34m\u001b[0m\u001b[0m\n\u001b[0m\u001b[1;32m    356\u001b[0m         \u001b[0;32mreturn\u001b[0m \u001b[0mobj\u001b[0m\u001b[0;34m,\u001b[0m \u001b[0mend\u001b[0m\u001b[0;34m\u001b[0m\u001b[0;34m\u001b[0m\u001b[0m\n",
            "\u001b[0;31mJSONDecodeError\u001b[0m: Expecting value: line 1 column 1 (char 0)",
            "\nDuring handling of the above exception, another exception occurred:\n",
            "\u001b[0;31mJSONDecodeError\u001b[0m                           Traceback (most recent call last)",
            "\u001b[0;32m<ipython-input-11-e039e147aa75>\u001b[0m in \u001b[0;36m<cell line: 1>\u001b[0;34m()\u001b[0m\n\u001b[0;32m----> 1\u001b[0;31m \u001b[0mresponse\u001b[0m\u001b[0;34m.\u001b[0m\u001b[0mjson\u001b[0m\u001b[0;34m(\u001b[0m\u001b[0;34m)\u001b[0m  \u001b[0;31m# this will show you serialized JSON content (See below).  to get a dictionary, you could take the str you received from .text and deserialize it (json.loads())\u001b[0m\u001b[0;34m\u001b[0m\u001b[0;34m\u001b[0m\u001b[0m\n\u001b[0m\u001b[1;32m      2\u001b[0m \u001b[0;31m# much simplier to use .json(). the \"type\" of the return value .json() is a dictionary so you can access values i the object via the 'key'\u001b[0m\u001b[0;34m\u001b[0m\u001b[0;34m\u001b[0m\u001b[0m\n",
            "\u001b[0;32m/usr/local/lib/python3.10/dist-packages/requests/models.py\u001b[0m in \u001b[0;36mjson\u001b[0;34m(self, **kwargs)\u001b[0m\n\u001b[1;32m    976\u001b[0m             \u001b[0;31m# Catch JSON-related errors and raise as requests.JSONDecodeError\u001b[0m\u001b[0;34m\u001b[0m\u001b[0;34m\u001b[0m\u001b[0m\n\u001b[1;32m    977\u001b[0m             \u001b[0;31m# This aliases json.JSONDecodeError and simplejson.JSONDecodeError\u001b[0m\u001b[0;34m\u001b[0m\u001b[0;34m\u001b[0m\u001b[0m\n\u001b[0;32m--> 978\u001b[0;31m             \u001b[0;32mraise\u001b[0m \u001b[0mRequestsJSONDecodeError\u001b[0m\u001b[0;34m(\u001b[0m\u001b[0me\u001b[0m\u001b[0;34m.\u001b[0m\u001b[0mmsg\u001b[0m\u001b[0;34m,\u001b[0m \u001b[0me\u001b[0m\u001b[0;34m.\u001b[0m\u001b[0mdoc\u001b[0m\u001b[0;34m,\u001b[0m \u001b[0me\u001b[0m\u001b[0;34m.\u001b[0m\u001b[0mpos\u001b[0m\u001b[0;34m)\u001b[0m\u001b[0;34m\u001b[0m\u001b[0;34m\u001b[0m\u001b[0m\n\u001b[0m\u001b[1;32m    979\u001b[0m \u001b[0;34m\u001b[0m\u001b[0m\n\u001b[1;32m    980\u001b[0m     \u001b[0;34m@\u001b[0m\u001b[0mproperty\u001b[0m\u001b[0;34m\u001b[0m\u001b[0;34m\u001b[0m\u001b[0m\n",
            "\u001b[0;31mJSONDecodeError\u001b[0m: Expecting value: line 1 column 1 (char 0)"
          ]
        }
      ]
    },
    {
      "cell_type": "markdown",
      "metadata": {
        "id": "2SaLF8JDZvnC"
      },
      "source": [
        "**NOTE**: you can do a alot with status codes and message bodies, but in order to get more infomration, like METADATA about the response itself, you will need to review the response headers."
      ]
    },
    {
      "cell_type": "markdown",
      "metadata": {
        "id": "y012rcnXaLcD"
      },
      "source": [
        "##**API Response Headers**\n",
        "\n",
        "The repsonse headers can provide lots of useful information such as content-type of the response payload, time-limit on how long to Cache the response etc..The View these headers, access (.headers)"
      ]
    },
    {
      "cell_type": "code",
      "metadata": {
        "id": "IA-pTr1DafPb",
        "outputId": "38467963-afc5-47dc-9a4b-69651fe7b2d5",
        "colab": {
          "base_uri": "https://localhost:8080/",
          "height": 54
        }
      },
      "source": [
        "response.headers"
      ],
      "execution_count": null,
      "outputs": [
        {
          "output_type": "execute_result",
          "data": {
            "text/plain": [
              "{'Server': 'GitHub.com', 'Date': 'Fri, 20 Dec 2019 22:39:19 GMT', 'Content-Type': 'application/json; charset=utf-8', 'Transfer-Encoding': 'chunked', 'Status': '200 OK', 'X-RateLimit-Limit': '60', 'X-RateLimit-Remaining': '55', 'X-RateLimit-Reset': '1576885158', 'Cache-Control': 'public, max-age=60, s-maxage=60', 'Vary': 'Accept', 'ETag': 'W/\"307bf49b7e1b8e6fe4ef622d609665e1\"', 'X-GitHub-Media-Type': 'github.v3; format=json', 'Access-Control-Expose-Headers': 'ETag, Link, Location, Retry-After, X-GitHub-OTP, X-RateLimit-Limit, X-RateLimit-Remaining, X-RateLimit-Reset, X-OAuth-Scopes, X-Accepted-OAuth-Scopes, X-Poll-Interval, X-GitHub-Media-Type', 'Access-Control-Allow-Origin': '*', 'Strict-Transport-Security': 'max-age=31536000; includeSubdomains; preload', 'X-Frame-Options': 'deny', 'X-Content-Type-Options': 'nosniff', 'X-XSS-Protection': '1; mode=block', 'Referrer-Policy': 'origin-when-cross-origin, strict-origin-when-cross-origin', 'Content-Security-Policy': \"default-src 'none'\", 'Content-Encoding': 'gzip', 'X-GitHub-Request-Id': 'CAAE:04B5:146FDD9:280FBED:5DFD4D97'}"
            ]
          },
          "metadata": {
            "tags": []
          },
          "execution_count": 12
        }
      ]
    },
    {
      "cell_type": "code",
      "metadata": {
        "id": "zxMe9X_h8Kl7",
        "outputId": "12309e60-e9f1-4876-ac04-adabb4c53b12",
        "colab": {
          "base_uri": "https://localhost:8080/",
          "height": 34
        }
      },
      "source": [
        "response.headers['content-Type']  # Accesing the key to content-type METADATA header.   NOT Case sensitive"
      ],
      "execution_count": null,
      "outputs": [
        {
          "output_type": "execute_result",
          "data": {
            "text/plain": [
              "'application/json; charset=utf-8'"
            ]
          },
          "metadata": {
            "tags": []
          },
          "execution_count": 13
        }
      ]
    },
    {
      "cell_type": "code",
      "metadata": {
        "id": "bLTNPdFHdsqz",
        "colab": {
          "base_uri": "https://localhost:8080/",
          "height": 34
        },
        "outputId": "5f202f56-9bd2-4ad8-aaee-828fb411ef52"
      },
      "source": [
        "response.headers['X-RateLimit-Remaining']"
      ],
      "execution_count": null,
      "outputs": [
        {
          "output_type": "execute_result",
          "data": {
            "text/plain": [
              "'55'"
            ]
          },
          "metadata": {
            "tags": []
          },
          "execution_count": 14
        }
      ]
    },
    {
      "cell_type": "markdown",
      "metadata": {
        "id": "or12vCCvt0ZN"
      },
      "source": [
        "##**Maniupulating Query parameters (params)**"
      ]
    }
  ]
}