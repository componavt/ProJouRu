{
  "nbformat": 4,
  "nbformat_minor": 0,
  "metadata": {
    "colab": {
      "provenance": [],
      "authorship_tag": "ABX9TyM00he0j9P2DH1zimn22Rt+",
      "include_colab_link": true
    },
    "kernelspec": {
      "name": "python3",
      "display_name": "Python 3"
    },
    "language_info": {
      "name": "python"
    }
  },
  "cells": [
    {
      "cell_type": "markdown",
      "metadata": {
        "id": "view-in-github",
        "colab_type": "text"
      },
      "source": [
        "<a href=\"https://colab.research.google.com/github/componavt/ProJouRu/blob/main/src/generate_file_scopus_category.ipynb\" target=\"_parent\"><img src=\"https://colab.research.google.com/assets/colab-badge.svg\" alt=\"Open In Colab\"/></a>"
      ]
    },
    {
      "cell_type": "markdown",
      "source": [
        "#**Generate file scopus_category.tsv with Scopus id and category**\n",
        "\n",
        "This notebook generates file [ProJouRu/data/scopus_category.tsv](https://github.com/componavt/ProJouRu/blob/main/data/scopus_category.tsv)**bold text**"
      ],
      "metadata": {
        "id": "o_avjKpQrdWK"
      }
    },
    {
      "cell_type": "markdown",
      "source": [
        "##**Scopus source ID (srcid)**\n",
        "\n",
        "The alternative names:\n",
        "*   **Scopus source ID** ([P1156](https://www.wikidata.org/wiki/Property:P1156)) at Wikidata,\n",
        "*   **scopus_id** at [dhimmel/data/asjc-codes.tsv](https://github.com/dhimmel/scopus/blob/main/data/asjc-codes.tsv),\n",
        "*   **srcid** in White list of scientific journals in Russia.\n",
        "\n",
        "Get asjc_code and asjc_description from Scopus source ID, with files:\n",
        "*   **titles-asjc-codes.tsv**: scopus_id asjc_code\n",
        "*   **asjc-codes.tsv**: asjc_code\tasjc_description\n",
        "\n",
        "todo  Scopus categories at"
      ],
      "metadata": {
        "id": "9HNkpI-geZrx"
      }
    },
    {
      "cell_type": "code",
      "source": [
        "import pandas as pd\n",
        "\n",
        "csv_srcid_asjc = \"https://raw.githubusercontent.com/componavt/ProJouRu/main/data/scopus/titles-asjc-codes.tsv\"\n",
        "csv_asjc       = \"https://raw.githubusercontent.com/componavt/ProJouRu/main/data/scopus/asjc-codes.tsv\"\n",
        "\n",
        "df_srcid_asjc = pd.read_csv(csv_srcid_asjc, sep='\\t')# scopus_id  asjc_code\n",
        "df_asjc       = pd.read_csv(csv_asjc,       sep='\\t')# asjc_code  asjc_description (category name)\n",
        "# df_srcid_asjc.head()\n",
        "# df_asjc.head()\n",
        "\n",
        "# merge DataFrames,\n",
        "# remain all rows in titles-asjc-codes.tsv, 'on' indicates that merging field is asjc_code\n",
        "scopus_category_df = pd.merge(df_srcid_asjc, df_asjc, on='asjc_code', how='left')\n",
        "\n",
        "scopus_category_df.to_csv('scopus_category.csv', sep='\\t', index=False)\n",
        "\n",
        "# (Необязательно) Вывод результата на экран для проверки\n",
        "print(scopus_category_df)"
      ],
      "metadata": {
        "id": "g4wsjPpH75BT",
        "colab": {
          "base_uri": "https://localhost:8080/"
        },
        "outputId": "c9256018-090b-4c69-c954-f897f3f0bbdf"
      },
      "execution_count": null,
      "outputs": [
        {
          "output_type": "stream",
          "name": "stdout",
          "text": [
            "          scopus_id  asjc_code                            asjc_description\n",
            "0             12000       1705        Computer Networks and Communications\n",
            "1             12000       3304                                   Education\n",
            "2             12001       2802                     Behavioral Neuroscience\n",
            "3             12001       3205       Experimental and Cognitive Psychology\n",
            "4             12002       1202                                     History\n",
            "...             ...        ...                                         ...\n",
            "175768  21101041513       1213             Visual Arts and Performing Arts\n",
            "175769  21101041513       2216                               Architecture \n",
            "175770  21101041552       2735  Pediatrics, Perinatology, and Child Health\n",
            "175771  21101041552       2919                                  Pediatrics\n",
            "175772  21101041622       2725                         Infectious Diseases\n",
            "\n",
            "[175773 rows x 3 columns]\n"
          ]
        }
      ]
    }
  ]
}