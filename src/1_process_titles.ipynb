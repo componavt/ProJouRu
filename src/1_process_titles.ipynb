{
  "cells": [
    {
      "cell_type": "markdown",
      "metadata": {
        "id": "view-in-github",
        "colab_type": "text"
      },
      "source": [
        "<a href=\"https://colab.research.google.com/github/componavt/ProJouRu/blob/main/src/1_process_titles.ipynb\" target=\"_parent\"><img src=\"https://colab.research.google.com/assets/colab-badge.svg\" alt=\"Open In Colab\"/></a>"
      ]
    },
    {
      "cell_type": "markdown",
      "metadata": {
        "id": "bbVm35TYWJOz"
      },
      "source": [
        "# Process Scopus title (e.g. journal) metadata\n",
        "This file taken from [dhimmel / scopus 1.process-titles.ipynb](https://github.com/dhimmel/scopus/blob/main/1.process-titles.ipynb)"
      ]
    },
    {
      "cell_type": "code",
      "execution_count": 17,
      "metadata": {
        "id": "rveRwe-_WJO6"
      },
      "outputs": [],
      "source": [
        "import pathlib\n",
        "import re\n",
        "\n",
        "import slugify\n",
        "\n",
        "import requests\n",
        "import pandas as pd\n",
        "from io import BytesIO\n",
        "\n",
        "#from utilities import format_issn"
      ]
    },
    {
      "cell_type": "code",
      "execution_count": 18,
      "metadata": {
        "id": "pW8NWu93WJO-",
        "collapsed": true,
        "outputId": "9287879e-7064-4b72-ca3e-9b91fcf2f738",
        "colab": {
          "base_uri": "https://localhost:8080/"
        }
      },
      "outputs": [
        {
          "output_type": "stream",
          "name": "stdout",
          "text": [
            "   Sourcerecord ID          Source Title      ISSN     EISSN  \\\n",
            "0      21101170611                  @GRH  20349130  22959149   \n",
            "1      21100902951  [Hifu] Skin research  00181390       NaN   \n",
            "\n",
            "  Active or Inactive   Coverage  \\\n",
            "0             Active  2023-2024   \n",
            "1           Inactive  1959-2001   \n",
            "\n",
            "  Titles Discontinued by Scopus Due to Quality Issues  \\\n",
            "0                                                NaN    \n",
            "1                                                NaN    \n",
            "\n",
            "  Article Language in Source (Three-Letter ISO Language Codes)  \\\n",
            "0                                           ENG; FRE             \n",
            "1                                                JPN             \n",
            "\n",
            "  Medline-sourced Title? (See additional details under separate tab.)  \\\n",
            "0                                                NaN                    \n",
            "1                                                NaN                    \n",
            "\n",
            "  Open Access Status  ... 2700\\nMedicine 2800\\nNeuroscience 2900\\nNursing  \\\n",
            "0                NaN  ...            NaN                NaN           NaN   \n",
            "1                NaN  ...      Medicine                 NaN           NaN   \n",
            "\n",
            "  3000\\nPharmacology, Toxicology and Pharmaceutics  \\\n",
            "0                                              NaN   \n",
            "1                                              NaN   \n",
            "\n",
            "  3100\\nPhysics and Astronomy 3200\\nPsychology 3300\\nSocial Sciences  \\\n",
            "0                         NaN              NaN                   NaN   \n",
            "1                         NaN              NaN                   NaN   \n",
            "\n",
            "  3400\\nVeterinary 3500\\nDentistry 3600\\nHealth Professions  \n",
            "0              NaN             NaN                      NaN  \n",
            "1              NaN             NaN                      NaN  \n",
            "\n",
            "[2 rows x 52 columns]\n"
          ]
        }
      ],
      "source": [
        "# Load dataset\n",
        "# path = pathlib.Path('download/ext_list_December_2024.xlsx')\n",
        "\n",
        "url = 'https://raw.githubusercontent.com/componavt/ProJouRu/main/download/ext_list_December_2024.xlsx'\n",
        "\n",
        "response = requests.get(url)\n",
        "response.raise_for_status()  # Проверяем, что запрос успешен\n",
        "\n",
        "source_df = pd.read_excel(BytesIO(response.content), sheet_name='Scopus Sources Dec. 2024')\n",
        "# print(source_df.head(2))"
      ]
    },
    {
      "cell_type": "code",
      "execution_count": 19,
      "metadata": {
        "id": "NNb_3XJ7WJPF",
        "outputId": "2e33a5fb-c111-47aa-f40f-c3337892f0d5",
        "colab": {
          "base_uri": "https://localhost:8080/"
        }
      },
      "outputs": [
        {
          "output_type": "execute_result",
          "data": {
            "text/plain": [
              "Index(['Sourcerecord ID', 'Source Title', 'ISSN', 'EISSN',\n",
              "       'Active or Inactive', 'Coverage',\n",
              "       'Titles Discontinued by Scopus Due to Quality Issues',\n",
              "       'Article Language in Source (Three-Letter ISO Language Codes)',\n",
              "       'Medline-sourced Title? (See additional details under separate tab.)',\n",
              "       'Open Access Status', 'Articles in Press Included?',\n",
              "       'Added to List Dec. 2024', 'Source Type', 'Title History Indication',\n",
              "       'Related Title 1', 'Other Related Title 2', 'Other Related Title 3',\n",
              "       'Other Related Title 4', 'Publisher',\n",
              "       'Publisher Imprints Grouped to Main Publisher',\n",
              "       'All Science Journal Classification Codes (ASJC)',\n",
              "       'Top level:\\n\\nLife Sciences', 'Top level:\\n\\nSocial Sciences',\n",
              "       'Top level:\\n\\nPhysical Sciences', 'Top level:\\n\\nHealth Sciences',\n",
              "       '1000 \\nGeneral', '1100\\nAgricultural and Biological Sciences',\n",
              "       '1200\\nArts and Humanities',\n",
              "       '1300\\nBiochemistry, Genetics and Molecular Biology',\n",
              "       '1400\\nBusiness, Management and Accounting',\n",
              "       '1500\\nChemical Engineering', '1600\\nChemistry',\n",
              "       '1700\\nComputer Science', '1800\\nDecision Sciences',\n",
              "       '1900\\nEarth and Planetary Sciences',\n",
              "       '2000\\nEconomics, Econometrics and Finance', '2100\\nEnergy',\n",
              "       '2200\\nEngineering', '2300\\nEnvironmental Science',\n",
              "       '2400\\nImmunology and Microbiology', '2500\\nMaterials Science',\n",
              "       '2600\\nMathematics', '2700\\nMedicine', '2800\\nNeuroscience',\n",
              "       '2900\\nNursing', '3000\\nPharmacology, Toxicology and Pharmaceutics',\n",
              "       '3100\\nPhysics and Astronomy', '3200\\nPsychology',\n",
              "       '3300\\nSocial Sciences', '3400\\nVeterinary', '3500\\nDentistry',\n",
              "       '3600\\nHealth Professions'],\n",
              "      dtype='object')"
            ]
          },
          "metadata": {},
          "execution_count": 19
        }
      ],
      "source": [
        "source_df.columns"
      ]
    },
    {
      "cell_type": "code",
      "execution_count": 20,
      "metadata": {
        "id": "gQGlsV0iWJPH",
        "outputId": "7e284af0-d4ed-4cbf-f881-db002b0129e5",
        "collapsed": true,
        "colab": {
          "base_uri": "https://localhost:8080/",
          "height": 304
        }
      },
      "outputs": [
        {
          "output_type": "error",
          "ename": "URLError",
          "evalue": "<urlopen error no host given>",
          "traceback": [
            "\u001b[0;31m---------------------------------------------------------------------------\u001b[0m",
            "\u001b[0;31mURLError\u001b[0m                                  Traceback (most recent call last)",
            "\u001b[0;32m<ipython-input-20-66b7b29cca77>\u001b[0m in \u001b[0;36m<cell line: 0>\u001b[0;34m()\u001b[0m\n\u001b[0;32m----> 1\u001b[0;31m \u001b[0mconf_df\u001b[0m \u001b[0;34m=\u001b[0m \u001b[0mpandas\u001b[0m\u001b[0;34m.\u001b[0m\u001b[0mread_excel\u001b[0m\u001b[0;34m(\u001b[0m\u001b[0mpath\u001b[0m\u001b[0;34m,\u001b[0m \u001b[0msheet_name\u001b[0m\u001b[0;34m=\u001b[0m\u001b[0;34m'All Conf. Proceedings'\u001b[0m\u001b[0;34m)\u001b[0m\u001b[0;34m\u001b[0m\u001b[0;34m\u001b[0m\u001b[0m\n\u001b[0m\u001b[1;32m      2\u001b[0m \u001b[0mconf_df\u001b[0m\u001b[0;34m.\u001b[0m\u001b[0mhead\u001b[0m\u001b[0;34m(\u001b[0m\u001b[0;36m2\u001b[0m\u001b[0;34m)\u001b[0m\u001b[0;34m\u001b[0m\u001b[0;34m\u001b[0m\u001b[0m\n",
            "\u001b[0;32m/usr/local/lib/python3.11/dist-packages/pandas/io/excel/_base.py\u001b[0m in \u001b[0;36mread_excel\u001b[0;34m(io, sheet_name, header, names, index_col, usecols, dtype, engine, converters, true_values, false_values, skiprows, nrows, na_values, keep_default_na, na_filter, verbose, parse_dates, date_parser, date_format, thousands, decimal, comment, skipfooter, storage_options, dtype_backend, engine_kwargs)\u001b[0m\n\u001b[1;32m    493\u001b[0m     \u001b[0;32mif\u001b[0m \u001b[0;32mnot\u001b[0m \u001b[0misinstance\u001b[0m\u001b[0;34m(\u001b[0m\u001b[0mio\u001b[0m\u001b[0;34m,\u001b[0m \u001b[0mExcelFile\u001b[0m\u001b[0;34m)\u001b[0m\u001b[0;34m:\u001b[0m\u001b[0;34m\u001b[0m\u001b[0;34m\u001b[0m\u001b[0m\n\u001b[1;32m    494\u001b[0m         \u001b[0mshould_close\u001b[0m \u001b[0;34m=\u001b[0m \u001b[0;32mTrue\u001b[0m\u001b[0;34m\u001b[0m\u001b[0;34m\u001b[0m\u001b[0m\n\u001b[0;32m--> 495\u001b[0;31m         io = ExcelFile(\n\u001b[0m\u001b[1;32m    496\u001b[0m             \u001b[0mio\u001b[0m\u001b[0;34m,\u001b[0m\u001b[0;34m\u001b[0m\u001b[0;34m\u001b[0m\u001b[0m\n\u001b[1;32m    497\u001b[0m             \u001b[0mstorage_options\u001b[0m\u001b[0;34m=\u001b[0m\u001b[0mstorage_options\u001b[0m\u001b[0;34m,\u001b[0m\u001b[0;34m\u001b[0m\u001b[0;34m\u001b[0m\u001b[0m\n",
            "\u001b[0;32m/usr/local/lib/python3.11/dist-packages/pandas/io/excel/_base.py\u001b[0m in \u001b[0;36m__init__\u001b[0;34m(self, path_or_buffer, engine, storage_options, engine_kwargs)\u001b[0m\n\u001b[1;32m   1548\u001b[0m                 \u001b[0mext\u001b[0m \u001b[0;34m=\u001b[0m \u001b[0;34m\"xls\"\u001b[0m\u001b[0;34m\u001b[0m\u001b[0;34m\u001b[0m\u001b[0m\n\u001b[1;32m   1549\u001b[0m             \u001b[0;32melse\u001b[0m\u001b[0;34m:\u001b[0m\u001b[0;34m\u001b[0m\u001b[0;34m\u001b[0m\u001b[0m\n\u001b[0;32m-> 1550\u001b[0;31m                 ext = inspect_excel_format(\n\u001b[0m\u001b[1;32m   1551\u001b[0m                     \u001b[0mcontent_or_path\u001b[0m\u001b[0;34m=\u001b[0m\u001b[0mpath_or_buffer\u001b[0m\u001b[0;34m,\u001b[0m \u001b[0mstorage_options\u001b[0m\u001b[0;34m=\u001b[0m\u001b[0mstorage_options\u001b[0m\u001b[0;34m\u001b[0m\u001b[0;34m\u001b[0m\u001b[0m\n\u001b[1;32m   1552\u001b[0m                 )\n",
            "\u001b[0;32m/usr/local/lib/python3.11/dist-packages/pandas/io/excel/_base.py\u001b[0m in \u001b[0;36minspect_excel_format\u001b[0;34m(content_or_path, storage_options)\u001b[0m\n\u001b[1;32m   1400\u001b[0m         \u001b[0mcontent_or_path\u001b[0m \u001b[0;34m=\u001b[0m \u001b[0mBytesIO\u001b[0m\u001b[0;34m(\u001b[0m\u001b[0mcontent_or_path\u001b[0m\u001b[0;34m)\u001b[0m\u001b[0;34m\u001b[0m\u001b[0;34m\u001b[0m\u001b[0m\n\u001b[1;32m   1401\u001b[0m \u001b[0;34m\u001b[0m\u001b[0m\n\u001b[0;32m-> 1402\u001b[0;31m     with get_handle(\n\u001b[0m\u001b[1;32m   1403\u001b[0m         \u001b[0mcontent_or_path\u001b[0m\u001b[0;34m,\u001b[0m \u001b[0;34m\"rb\"\u001b[0m\u001b[0;34m,\u001b[0m \u001b[0mstorage_options\u001b[0m\u001b[0;34m=\u001b[0m\u001b[0mstorage_options\u001b[0m\u001b[0;34m,\u001b[0m \u001b[0mis_text\u001b[0m\u001b[0;34m=\u001b[0m\u001b[0;32mFalse\u001b[0m\u001b[0;34m\u001b[0m\u001b[0;34m\u001b[0m\u001b[0m\n\u001b[1;32m   1404\u001b[0m     ) as handle:\n",
            "\u001b[0;32m/usr/local/lib/python3.11/dist-packages/pandas/io/common.py\u001b[0m in \u001b[0;36mget_handle\u001b[0;34m(path_or_buf, mode, encoding, compression, memory_map, is_text, errors, storage_options)\u001b[0m\n\u001b[1;32m    726\u001b[0m \u001b[0;34m\u001b[0m\u001b[0m\n\u001b[1;32m    727\u001b[0m     \u001b[0;31m# open URLs\u001b[0m\u001b[0;34m\u001b[0m\u001b[0;34m\u001b[0m\u001b[0m\n\u001b[0;32m--> 728\u001b[0;31m     ioargs = _get_filepath_or_buffer(\n\u001b[0m\u001b[1;32m    729\u001b[0m         \u001b[0mpath_or_buf\u001b[0m\u001b[0;34m,\u001b[0m\u001b[0;34m\u001b[0m\u001b[0;34m\u001b[0m\u001b[0m\n\u001b[1;32m    730\u001b[0m         \u001b[0mencoding\u001b[0m\u001b[0;34m=\u001b[0m\u001b[0mencoding\u001b[0m\u001b[0;34m,\u001b[0m\u001b[0;34m\u001b[0m\u001b[0;34m\u001b[0m\u001b[0m\n",
            "\u001b[0;32m/usr/local/lib/python3.11/dist-packages/pandas/io/common.py\u001b[0m in \u001b[0;36m_get_filepath_or_buffer\u001b[0;34m(filepath_or_buffer, encoding, compression, mode, storage_options)\u001b[0m\n\u001b[1;32m    382\u001b[0m         \u001b[0;31m# assuming storage_options is to be interpreted as headers\u001b[0m\u001b[0;34m\u001b[0m\u001b[0;34m\u001b[0m\u001b[0m\n\u001b[1;32m    383\u001b[0m         \u001b[0mreq_info\u001b[0m \u001b[0;34m=\u001b[0m \u001b[0murllib\u001b[0m\u001b[0;34m.\u001b[0m\u001b[0mrequest\u001b[0m\u001b[0;34m.\u001b[0m\u001b[0mRequest\u001b[0m\u001b[0;34m(\u001b[0m\u001b[0mfilepath_or_buffer\u001b[0m\u001b[0;34m,\u001b[0m \u001b[0mheaders\u001b[0m\u001b[0;34m=\u001b[0m\u001b[0mstorage_options\u001b[0m\u001b[0;34m)\u001b[0m\u001b[0;34m\u001b[0m\u001b[0;34m\u001b[0m\u001b[0m\n\u001b[0;32m--> 384\u001b[0;31m         \u001b[0;32mwith\u001b[0m \u001b[0murlopen\u001b[0m\u001b[0;34m(\u001b[0m\u001b[0mreq_info\u001b[0m\u001b[0;34m)\u001b[0m \u001b[0;32mas\u001b[0m \u001b[0mreq\u001b[0m\u001b[0;34m:\u001b[0m\u001b[0;34m\u001b[0m\u001b[0;34m\u001b[0m\u001b[0m\n\u001b[0m\u001b[1;32m    385\u001b[0m             \u001b[0mcontent_encoding\u001b[0m \u001b[0;34m=\u001b[0m \u001b[0mreq\u001b[0m\u001b[0;34m.\u001b[0m\u001b[0mheaders\u001b[0m\u001b[0;34m.\u001b[0m\u001b[0mget\u001b[0m\u001b[0;34m(\u001b[0m\u001b[0;34m\"Content-Encoding\"\u001b[0m\u001b[0;34m,\u001b[0m \u001b[0;32mNone\u001b[0m\u001b[0;34m)\u001b[0m\u001b[0;34m\u001b[0m\u001b[0;34m\u001b[0m\u001b[0m\n\u001b[1;32m    386\u001b[0m             \u001b[0;32mif\u001b[0m \u001b[0mcontent_encoding\u001b[0m \u001b[0;34m==\u001b[0m \u001b[0;34m\"gzip\"\u001b[0m\u001b[0;34m:\u001b[0m\u001b[0;34m\u001b[0m\u001b[0;34m\u001b[0m\u001b[0m\n",
            "\u001b[0;32m/usr/local/lib/python3.11/dist-packages/pandas/io/common.py\u001b[0m in \u001b[0;36murlopen\u001b[0;34m(*args, **kwargs)\u001b[0m\n\u001b[1;32m    287\u001b[0m     \u001b[0;32mimport\u001b[0m \u001b[0murllib\u001b[0m\u001b[0;34m.\u001b[0m\u001b[0mrequest\u001b[0m\u001b[0;34m\u001b[0m\u001b[0;34m\u001b[0m\u001b[0m\n\u001b[1;32m    288\u001b[0m \u001b[0;34m\u001b[0m\u001b[0m\n\u001b[0;32m--> 289\u001b[0;31m     \u001b[0;32mreturn\u001b[0m \u001b[0murllib\u001b[0m\u001b[0;34m.\u001b[0m\u001b[0mrequest\u001b[0m\u001b[0;34m.\u001b[0m\u001b[0murlopen\u001b[0m\u001b[0;34m(\u001b[0m\u001b[0;34m*\u001b[0m\u001b[0margs\u001b[0m\u001b[0;34m,\u001b[0m \u001b[0;34m**\u001b[0m\u001b[0mkwargs\u001b[0m\u001b[0;34m)\u001b[0m\u001b[0;34m\u001b[0m\u001b[0;34m\u001b[0m\u001b[0m\n\u001b[0m\u001b[1;32m    290\u001b[0m \u001b[0;34m\u001b[0m\u001b[0m\n\u001b[1;32m    291\u001b[0m \u001b[0;34m\u001b[0m\u001b[0m\n",
            "\u001b[0;32m/usr/lib/python3.11/urllib/request.py\u001b[0m in \u001b[0;36murlopen\u001b[0;34m(url, data, timeout, cafile, capath, cadefault, context)\u001b[0m\n\u001b[1;32m    214\u001b[0m     \u001b[0;32melse\u001b[0m\u001b[0;34m:\u001b[0m\u001b[0;34m\u001b[0m\u001b[0;34m\u001b[0m\u001b[0m\n\u001b[1;32m    215\u001b[0m         \u001b[0mopener\u001b[0m \u001b[0;34m=\u001b[0m \u001b[0m_opener\u001b[0m\u001b[0;34m\u001b[0m\u001b[0;34m\u001b[0m\u001b[0m\n\u001b[0;32m--> 216\u001b[0;31m     \u001b[0;32mreturn\u001b[0m \u001b[0mopener\u001b[0m\u001b[0;34m.\u001b[0m\u001b[0mopen\u001b[0m\u001b[0;34m(\u001b[0m\u001b[0murl\u001b[0m\u001b[0;34m,\u001b[0m \u001b[0mdata\u001b[0m\u001b[0;34m,\u001b[0m \u001b[0mtimeout\u001b[0m\u001b[0;34m)\u001b[0m\u001b[0;34m\u001b[0m\u001b[0;34m\u001b[0m\u001b[0m\n\u001b[0m\u001b[1;32m    217\u001b[0m \u001b[0;34m\u001b[0m\u001b[0m\n\u001b[1;32m    218\u001b[0m \u001b[0;32mdef\u001b[0m \u001b[0minstall_opener\u001b[0m\u001b[0;34m(\u001b[0m\u001b[0mopener\u001b[0m\u001b[0;34m)\u001b[0m\u001b[0;34m:\u001b[0m\u001b[0;34m\u001b[0m\u001b[0;34m\u001b[0m\u001b[0m\n",
            "\u001b[0;32m/usr/lib/python3.11/urllib/request.py\u001b[0m in \u001b[0;36mopen\u001b[0;34m(self, fullurl, data, timeout)\u001b[0m\n\u001b[1;32m    514\u001b[0m         \u001b[0;32mfor\u001b[0m \u001b[0mprocessor\u001b[0m \u001b[0;32min\u001b[0m \u001b[0mself\u001b[0m\u001b[0;34m.\u001b[0m\u001b[0mprocess_request\u001b[0m\u001b[0;34m.\u001b[0m\u001b[0mget\u001b[0m\u001b[0;34m(\u001b[0m\u001b[0mprotocol\u001b[0m\u001b[0;34m,\u001b[0m \u001b[0;34m[\u001b[0m\u001b[0;34m]\u001b[0m\u001b[0;34m)\u001b[0m\u001b[0;34m:\u001b[0m\u001b[0;34m\u001b[0m\u001b[0;34m\u001b[0m\u001b[0m\n\u001b[1;32m    515\u001b[0m             \u001b[0mmeth\u001b[0m \u001b[0;34m=\u001b[0m \u001b[0mgetattr\u001b[0m\u001b[0;34m(\u001b[0m\u001b[0mprocessor\u001b[0m\u001b[0;34m,\u001b[0m \u001b[0mmeth_name\u001b[0m\u001b[0;34m)\u001b[0m\u001b[0;34m\u001b[0m\u001b[0;34m\u001b[0m\u001b[0m\n\u001b[0;32m--> 516\u001b[0;31m             \u001b[0mreq\u001b[0m \u001b[0;34m=\u001b[0m \u001b[0mmeth\u001b[0m\u001b[0;34m(\u001b[0m\u001b[0mreq\u001b[0m\u001b[0;34m)\u001b[0m\u001b[0;34m\u001b[0m\u001b[0;34m\u001b[0m\u001b[0m\n\u001b[0m\u001b[1;32m    517\u001b[0m \u001b[0;34m\u001b[0m\u001b[0m\n\u001b[1;32m    518\u001b[0m         \u001b[0msys\u001b[0m\u001b[0;34m.\u001b[0m\u001b[0maudit\u001b[0m\u001b[0;34m(\u001b[0m\u001b[0;34m'urllib.Request'\u001b[0m\u001b[0;34m,\u001b[0m \u001b[0mreq\u001b[0m\u001b[0;34m.\u001b[0m\u001b[0mfull_url\u001b[0m\u001b[0;34m,\u001b[0m \u001b[0mreq\u001b[0m\u001b[0;34m.\u001b[0m\u001b[0mdata\u001b[0m\u001b[0;34m,\u001b[0m \u001b[0mreq\u001b[0m\u001b[0;34m.\u001b[0m\u001b[0mheaders\u001b[0m\u001b[0;34m,\u001b[0m \u001b[0mreq\u001b[0m\u001b[0;34m.\u001b[0m\u001b[0mget_method\u001b[0m\u001b[0;34m(\u001b[0m\u001b[0;34m)\u001b[0m\u001b[0;34m)\u001b[0m\u001b[0;34m\u001b[0m\u001b[0;34m\u001b[0m\u001b[0m\n",
            "\u001b[0;32m/usr/lib/python3.11/urllib/request.py\u001b[0m in \u001b[0;36mdo_request_\u001b[0;34m(self, request)\u001b[0m\n\u001b[1;32m   1270\u001b[0m         \u001b[0mhost\u001b[0m \u001b[0;34m=\u001b[0m \u001b[0mrequest\u001b[0m\u001b[0;34m.\u001b[0m\u001b[0mhost\u001b[0m\u001b[0;34m\u001b[0m\u001b[0;34m\u001b[0m\u001b[0m\n\u001b[1;32m   1271\u001b[0m         \u001b[0;32mif\u001b[0m \u001b[0;32mnot\u001b[0m \u001b[0mhost\u001b[0m\u001b[0;34m:\u001b[0m\u001b[0;34m\u001b[0m\u001b[0;34m\u001b[0m\u001b[0m\n\u001b[0;32m-> 1272\u001b[0;31m             \u001b[0;32mraise\u001b[0m \u001b[0mURLError\u001b[0m\u001b[0;34m(\u001b[0m\u001b[0;34m'no host given'\u001b[0m\u001b[0;34m)\u001b[0m\u001b[0;34m\u001b[0m\u001b[0;34m\u001b[0m\u001b[0m\n\u001b[0m\u001b[1;32m   1273\u001b[0m \u001b[0;34m\u001b[0m\u001b[0m\n\u001b[1;32m   1274\u001b[0m         \u001b[0;32mif\u001b[0m \u001b[0mrequest\u001b[0m\u001b[0;34m.\u001b[0m\u001b[0mdata\u001b[0m \u001b[0;32mis\u001b[0m \u001b[0;32mnot\u001b[0m \u001b[0;32mNone\u001b[0m\u001b[0;34m:\u001b[0m  \u001b[0;31m# POST\u001b[0m\u001b[0;34m\u001b[0m\u001b[0;34m\u001b[0m\u001b[0m\n",
            "\u001b[0;31mURLError\u001b[0m: <urlopen error no host given>"
          ]
        }
      ],
      "source": [
        "conf_df = pandas.read_excel(path, sheet_name='All Conf. Proceedings')\n",
        "conf_df.head(2)"
      ]
    },
    {
      "cell_type": "code",
      "execution_count": null,
      "metadata": {
        "id": "gDSYl_mjWJPJ"
      },
      "outputs": [],
      "source": [
        "code_df = pandas.read_excel(path, sheet_name='ASJC classification codes', usecols=[\"Code\", \"Description\"], skiprows=8).dropna()\n",
        "code_df.Code = code_df.Code.astype(int)\n",
        "code_df.head(2)"
      ]
    },
    {
      "cell_type": "code",
      "execution_count": null,
      "metadata": {
        "id": "wWZRjPqfWJPL"
      },
      "outputs": [],
      "source": [
        "# Rename columns on dataframes\n",
        "renamer = {\n",
        "    'Sourcerecord ID': 'scopus_id',\n",
        "    \"Source Title (Medline-sourced journals are indicated in Green)\": \"title_name\",\n",
        "    \"Conference Name\": \"title_name\",\n",
        "    'All Science Classification Codes (ASJC)': 'asjc_codes',\n",
        "    'ASJC Code': 'asjc_codes',\n",
        "    \"All Science Journal Classification Codes (ASJC)\": \"asjc_codes\",\n",
        "    'Print-ISSN': 'issn_print',\n",
        "    'E-ISSN': 'issn_electronic',\n",
        "    'ISSN': 'issn_unspecified',\n",
        "}\n",
        "\n",
        "for df in source_df, conf_df:\n",
        "    df.rename(columns=renamer, inplace=True)"
      ]
    },
    {
      "cell_type": "markdown",
      "metadata": {
        "id": "yGRIrb1sWJPN"
      },
      "source": [
        "## Titles"
      ]
    },
    {
      "cell_type": "code",
      "execution_count": null,
      "metadata": {
        "id": "sA76X6o1WJPP"
      },
      "outputs": [],
      "source": [
        "# Extract title names\n",
        "rows = list()\n",
        "for df in source_df, conf_df:\n",
        "    rows.extend(zip(df.scopus_id, df.title_name))\n",
        "\n",
        "rows.sort()\n",
        "title_df = pandas.DataFrame(rows, columns=['scopus_id', 'title_name'])\n",
        "title_df = title_df.drop_duplicates('scopus_id')"
      ]
    },
    {
      "cell_type": "code",
      "execution_count": null,
      "metadata": {
        "id": "bhSZKDAiWJPR"
      },
      "outputs": [],
      "source": [
        "title_df.head(2)"
      ]
    },
    {
      "cell_type": "code",
      "execution_count": null,
      "metadata": {
        "id": "rYiSN1XBWJPS"
      },
      "outputs": [],
      "source": [
        "len(title_df)"
      ]
    },
    {
      "cell_type": "code",
      "execution_count": null,
      "metadata": {
        "id": "aR8_4u-oWJPT"
      },
      "outputs": [],
      "source": [
        "path = pathlib.Path('data/titles.tsv')\n",
        "title_df.to_csv(path, index=False, sep='\\t')"
      ]
    },
    {
      "cell_type": "markdown",
      "metadata": {
        "id": "N5Lf3niyWJPU"
      },
      "source": [
        "## ISSN"
      ]
    },
    {
      "cell_type": "code",
      "execution_count": null,
      "metadata": {
        "id": "5BA1debJWJPV"
      },
      "outputs": [],
      "source": [
        "# Load linking ISSN map as per https://github.com/dhimmel/scopus/issues/7\n",
        "path = pathlib.Path('download/20210912.ISSN-to-ISSN-L.txt.gz')\n",
        "issnl_df = (\n",
        "    pandas.read_table(path)\n",
        "    .rename(columns={\"ISSN\": \"issn\", \"ISSN-L\": \"linking_issn\"})\n",
        ")\n",
        "issnl_df.head(2)"
      ]
    },
    {
      "cell_type": "code",
      "execution_count": null,
      "metadata": {
        "id": "v5YvUes5WJPV"
      },
      "outputs": [],
      "source": [
        "value_vars = {'issn_print', 'issn_electronic', 'issn_unspecified'}\n",
        "issn_dfs = list()\n",
        "for df in source_df, conf_df:\n",
        "    df_value_vars = value_vars.intersection(df.columns)\n",
        "    df = pandas.melt(df, id_vars='scopus_id', value_vars=df_value_vars, var_name='issn_type', value_name='issn')\n",
        "    df.dropna(inplace=True)\n",
        "    df.issn = df.issn.map(format_issn)\n",
        "    df.issn_type = df.issn_type.map(lambda x: x.split('_')[1])\n",
        "    issn_dfs.append(df.dropna())\n",
        "issn_df = (\n",
        "    pandas.concat(issn_dfs)\n",
        "    .dropna()\n",
        "    .drop_duplicates(['scopus_id', 'issn'])\n",
        "    .merge(issnl_df, how=\"left\")\n",
        "    .sort_values(['scopus_id', 'issn_type', 'issn', 'linking_issn'])\n",
        ")\n",
        "issn_df.head(2)"
      ]
    },
    {
      "cell_type": "code",
      "execution_count": null,
      "metadata": {
        "id": "h0HkwPVVWJPW"
      },
      "outputs": [],
      "source": [
        "len(issn_df), len(issnl_df)"
      ]
    },
    {
      "cell_type": "code",
      "execution_count": null,
      "metadata": {
        "scrolled": true,
        "id": "mMXz_8WYWJPX"
      },
      "outputs": [],
      "source": [
        "issn_df.head(3)"
      ]
    },
    {
      "cell_type": "code",
      "execution_count": null,
      "metadata": {
        "id": "giA6CeozWJPZ"
      },
      "outputs": [],
      "source": [
        "# Scopus ISSNs that don't have an ISSN-L\n",
        "bad_issn_df = issn_df[issn_df.linking_issn.isna()]\n",
        "print(len(bad_issn_df))\n",
        "bad_issn_df.sample(5, random_state=0)"
      ]
    },
    {
      "cell_type": "code",
      "execution_count": null,
      "metadata": {
        "id": "R1iCSS_RWJPZ"
      },
      "outputs": [],
      "source": [
        "path = pathlib.Path('data/issn.tsv')\n",
        "issn_df.to_csv(path, sep='\\t', index=False)"
      ]
    },
    {
      "cell_type": "markdown",
      "metadata": {
        "id": "DGwXWNnxWJPa"
      },
      "source": [
        "## ASJC Codes\n",
        "\n",
        "All Science Journal Classification (ASJC) Codes"
      ]
    },
    {
      "cell_type": "code",
      "execution_count": null,
      "metadata": {
        "id": "McarkZVyWJPa"
      },
      "outputs": [],
      "source": [
        "# Extract ASJC code descriptions\n",
        "code_df = code_df.rename(columns={'Code': 'asjc_code', 'Description': 'asjc_description'})\n",
        "code_df = code_df[['asjc_code', 'asjc_description']]\n",
        "code_df.head(2)"
      ]
    },
    {
      "cell_type": "code",
      "execution_count": null,
      "metadata": {
        "id": "Tl0T57gjWJPb"
      },
      "outputs": [],
      "source": [
        "path = pathlib.Path('data/asjc-codes.tsv')\n",
        "code_df.to_csv(path, index=False, sep='\\t')"
      ]
    },
    {
      "cell_type": "code",
      "execution_count": null,
      "metadata": {
        "id": "rODI8_8fWJPb"
      },
      "outputs": [],
      "source": [
        "# Extract title to code mapping\n",
        "rows = list()\n",
        "for df in source_df, conf_df:\n",
        "    for scopus_id, codes in zip(df.scopus_id, df.asjc_codes):\n",
        "        for code in re.split(r'[,;] *', str(codes)):\n",
        "            code = code.strip()\n",
        "            try:\n",
        "                code = int(code)\n",
        "            except ValueError:\n",
        "                continue\n",
        "            rows.append((scopus_id, code))\n",
        "\n",
        "rows.sort()\n",
        "title_codes_df = pandas.DataFrame(rows, columns=['scopus_id', 'asjc_code'])\n",
        "title_codes_df = title_codes_df.drop_duplicates()\n",
        "title_codes_df.head(2)"
      ]
    },
    {
      "cell_type": "code",
      "execution_count": null,
      "metadata": {
        "id": "iib_AAZ3WJPc"
      },
      "outputs": [],
      "source": [
        "path = pathlib.Path('data/titles-asjc-codes.tsv')\n",
        "title_codes_df.to_csv(path, index=False, sep='\\t')"
      ]
    },
    {
      "cell_type": "code",
      "execution_count": null,
      "metadata": {
        "id": "AGcg4p-0WJPd"
      },
      "outputs": [],
      "source": [
        "# Extract title to subject area mapping\n",
        "subject_df = title_codes_df.copy()\n",
        "subject_df.asjc_code = 100 * (subject_df.asjc_code // 100)\n",
        "subject_df = subject_df.drop_duplicates()\n",
        "subject_df = subject_df.merge(code_df)\n",
        "subject_df.asjc_description = subject_df.asjc_description.map(lambda x: re.sub(r'^General ', '', x))\n",
        "subject_df = subject_df.sort_values(['scopus_id', 'asjc_code'])\n",
        "subject_df.head(2)"
      ]
    },
    {
      "cell_type": "code",
      "execution_count": null,
      "metadata": {
        "id": "tctzKn_3WJPd"
      },
      "outputs": [],
      "source": [
        "path = pathlib.Path('data/subject-areas.tsv')\n",
        "subject_df.to_csv(path, index=False, sep='\\t')"
      ]
    },
    {
      "cell_type": "markdown",
      "metadata": {
        "id": "yPH1-MB4WJPe"
      },
      "source": [
        "## Title attributes"
      ]
    },
    {
      "cell_type": "code",
      "execution_count": null,
      "metadata": {
        "id": "C9_nDD69WJPe"
      },
      "outputs": [],
      "source": [
        "# Extract title attributes for non-conference-proceedings\n",
        "renamer = {\n",
        "    'Open Access status, i.e., registered in DOAJ. Status May 2020\\n': 'open_access',\n",
        "    'Active or Inactive': 'active',\n",
        "    'Source Type': 'source_type',\n",
        "    'Publisher imprints grouped to main Publisher': 'main_publisher',\n",
        "}\n",
        "attribute_df = source_df.copy()\n",
        "attribute_df = attribute_df.rename(columns=renamer)\n",
        "attribute_df = attribute_df[['scopus_id'] + list(renamer.values())]\n",
        "attribute_df.active = (attribute_df.active == 'Active').astype(int)\n",
        "attribute_df.open_access = attribute_df.open_access.notnull().astype(int)\n",
        "attribute_df = attribute_df.sort_values('scopus_id')\n",
        "# Enforce column order for diff viewing\n",
        "columns = ['scopus_id', 'active', 'open_access', 'main_publisher', 'source_type']\n",
        "attribute_df = attribute_df[columns]\n",
        "attribute_df = attribute_df.drop_duplicates('scopus_id')\n",
        "attribute_df.head(2)"
      ]
    },
    {
      "cell_type": "markdown",
      "metadata": {
        "id": "_pSoJldbWJPf"
      },
      "source": [
        "### Fix publishers"
      ]
    },
    {
      "cell_type": "code",
      "execution_count": null,
      "metadata": {
        "id": "G056DN_wWJPf"
      },
      "outputs": [],
      "source": [
        "print(f'Publishers before filtering: {attribute_df.main_publisher.nunique():,}')\n",
        "\n",
        "# Strip whitespace sourrounding publisher names\n",
        "attribute_df.main_publisher = attribute_df.main_publisher.str.strip()\n",
        "print(f'Publishers after whitespace stripping: {attribute_df.main_publisher.nunique():,}')\n",
        "\n",
        "# Apply manual publisher name patches\n",
        "path = pathlib.Path('data/publisher-name-patches.tsv')\n",
        "patch_df = pandas.read_table(path)\n",
        "publisher_renamer = dict(zip(patch_df.scopus_main_publisher, patch_df.publisher_name))\n",
        "attribute_df.main_publisher.replace(publisher_renamer, inplace=True)\n",
        "print(f'Publishers after renaming: {attribute_df.main_publisher.nunique():,}')"
      ]
    },
    {
      "cell_type": "code",
      "execution_count": null,
      "metadata": {
        "id": "FKHNqaZ8WJPg"
      },
      "outputs": [],
      "source": [
        "# Create a publsher dataframe\n",
        "publisher_df = (\n",
        "    attribute_df\n",
        "    .groupby('main_publisher')\n",
        "    .apply(len)\n",
        "    .rename('n_journals')\n",
        "    .reset_index()\n",
        ")\n",
        "slugger = slugify.Slugify(to_lower=True)\n",
        "publisher_df['main_publisher_slug'] = publisher_df.main_publisher.map(slugger)\n",
        "\n",
        "def summarize(df):\n",
        "    \"\"\"\n",
        "    Condense multiple publishers with the same slug\n",
        "    \"\"\"\n",
        "    # Select name variant used for the most number of titles\n",
        "    df = df.sort_values(['n_journals', 'main_publisher'])\n",
        "    return {\n",
        "        'n_journals': sum(df.n_journals),\n",
        "        'main_publisher': df.main_publisher.iloc[0],\n",
        "        'name_variants': len(df),\n",
        "    }\n",
        "\n",
        "results = (\n",
        "    publisher_df\n",
        "    .groupby('main_publisher_slug')\n",
        "    .apply(summarize)\n",
        ")\n",
        "publisher_df = pandas.DataFrame.from_records(results, index=results.index).reset_index()\n",
        "publisher_df.head(2)"
      ]
    },
    {
      "cell_type": "code",
      "execution_count": null,
      "metadata": {
        "id": "kcbTJEJiWJPg"
      },
      "outputs": [],
      "source": [
        "# How many publishers had name variants (identified using slug reduction)\n",
        "publisher_df.name_variants.value_counts()"
      ]
    },
    {
      "cell_type": "code",
      "execution_count": null,
      "metadata": {
        "id": "eKFl90PXWJPh"
      },
      "outputs": [],
      "source": [
        "# Standardize name variants using slug reductionism\n",
        "slug_to_publisher = dict(zip(publisher_df.main_publisher_slug, publisher_df.main_publisher))\n",
        "attribute_df.main_publisher = attribute_df.main_publisher.map(slugger, na_action='ignore').map(slug_to_publisher)\n",
        "print(f'Publishers after slug reductions: {attribute_df.main_publisher.nunique():,}')"
      ]
    },
    {
      "cell_type": "code",
      "execution_count": null,
      "metadata": {
        "id": "blvq3nvZWJPh"
      },
      "outputs": [],
      "source": [
        "path = pathlib.Path('data/title-attributes.tsv')\n",
        "attribute_df.to_csv(path, index=False, sep='\\t')\n",
        "\n",
        "path = pathlib.Path('data/publishers.tsv')\n",
        "publisher_df.to_csv(path, index=False, sep='\\t')"
      ]
    },
    {
      "cell_type": "code",
      "execution_count": null,
      "metadata": {
        "id": "TqL2gNg0WJPi"
      },
      "outputs": [],
      "source": [
        "# Top level subject areas\n",
        "rows = []\n",
        "tl_cols = list(source_df.columns[source_df.columns.str.startswith('Top level:')])\n",
        "for i, series in source_df[['scopus_id'] + tl_cols].iterrows():\n",
        "    scopus_id = series.scopus_id\n",
        "    for value in series.iloc[1:].dropna():\n",
        "        rows.append((scopus_id, value))\n",
        "rows.sort()\n",
        "top_df = pandas.DataFrame(rows, columns=['scopus_id', 'top_level_subject'])\n",
        "top_df.head(2)"
      ]
    },
    {
      "cell_type": "code",
      "execution_count": null,
      "metadata": {
        "id": "OJS3z12eWJPi"
      },
      "outputs": [],
      "source": [
        "path = pathlib.Path('data/title-top-levels.tsv')\n",
        "top_df.to_csv(path, index=False, sep='\\t')"
      ]
    }
  ],
  "metadata": {
    "anaconda-cloud": {},
    "interpreter": {
      "hash": "0e356716c2af146b4f1229c16fd80fd2e17e74cbf6057515b63f09e4d327206c"
    },
    "kernelspec": {
      "display_name": "Python 3 (ipykernel)",
      "language": "python",
      "name": "python3"
    },
    "language_info": {
      "codemirror_mode": {
        "name": "ipython",
        "version": 3
      },
      "file_extension": ".py",
      "mimetype": "text/x-python",
      "name": "python",
      "nbconvert_exporter": "python",
      "pygments_lexer": "ipython3",
      "version": "3.9.6"
    },
    "colab": {
      "provenance": [],
      "include_colab_link": true
    }
  },
  "nbformat": 4,
  "nbformat_minor": 0
}