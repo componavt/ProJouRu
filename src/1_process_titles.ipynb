{
  "cells": [
    {
      "cell_type": "markdown",
      "metadata": {
        "id": "view-in-github",
        "colab_type": "text"
      },
      "source": [
        "<a href=\"https://colab.research.google.com/github/componavt/ProJouRu/blob/main/src/1_process_titles.ipynb\" target=\"_parent\"><img src=\"https://colab.research.google.com/assets/colab-badge.svg\" alt=\"Open In Colab\"/></a>"
      ]
    },
    {
      "cell_type": "markdown",
      "metadata": {
        "id": "bbVm35TYWJOz"
      },
      "source": [
        "# Process Scopus title (e.g. journal) metadata\n",
        "This file taken from [dhimmel / scopus 1.process-titles.ipynb](https://github.com/dhimmel/scopus/blob/main/1.process-titles.ipynb)"
      ]
    },
    {
      "cell_type": "code",
      "execution_count": 1,
      "metadata": {
        "id": "rveRwe-_WJO6"
      },
      "outputs": [],
      "source": [
        "import pathlib\n",
        "import re\n",
        "\n",
        "import slugify\n",
        "\n",
        "import requests\n",
        "import pandas as pd\n",
        "from io import BytesIO\n",
        "\n",
        "#from utilities import format_issn"
      ]
    },
    {
      "cell_type": "code",
      "execution_count": 2,
      "metadata": {
        "id": "pW8NWu93WJO-",
        "collapsed": true
      },
      "outputs": [],
      "source": [
        "# Load dataset\n",
        "# path = pathlib.Path('download/ext_list_December_2024.xlsx')\n",
        "\n",
        "url = 'https://raw.githubusercontent.com/componavt/ProJouRu/main/download/ext_list_December_2024.xlsx'\n",
        "\n",
        "response = requests.get(url)\n",
        "response.raise_for_status()  # Проверяем, что запрос успешен\n",
        "\n",
        "source_df = pd.read_excel(BytesIO(response.content), sheet_name='Scopus Sources Dec. 2024')\n",
        "# print(source_df.head(2))"
      ]
    },
    {
      "cell_type": "code",
      "execution_count": 3,
      "metadata": {
        "id": "NNb_3XJ7WJPF",
        "outputId": "8ce7b8f7-2fff-410c-84e4-cf726a70f8b6",
        "colab": {
          "base_uri": "https://localhost:8080/"
        },
        "collapsed": true
      },
      "outputs": [
        {
          "output_type": "execute_result",
          "data": {
            "text/plain": [
              "Index(['Sourcerecord ID', 'Source Title', 'ISSN', 'EISSN',\n",
              "       'Active or Inactive', 'Coverage',\n",
              "       'Titles Discontinued by Scopus Due to Quality Issues',\n",
              "       'Article Language in Source (Three-Letter ISO Language Codes)',\n",
              "       'Medline-sourced Title? (See additional details under separate tab.)',\n",
              "       'Open Access Status', 'Articles in Press Included?',\n",
              "       'Added to List Dec. 2024', 'Source Type', 'Title History Indication',\n",
              "       'Related Title 1', 'Other Related Title 2', 'Other Related Title 3',\n",
              "       'Other Related Title 4', 'Publisher',\n",
              "       'Publisher Imprints Grouped to Main Publisher',\n",
              "       'All Science Journal Classification Codes (ASJC)',\n",
              "       'Top level:\\n\\nLife Sciences', 'Top level:\\n\\nSocial Sciences',\n",
              "       'Top level:\\n\\nPhysical Sciences', 'Top level:\\n\\nHealth Sciences',\n",
              "       '1000 \\nGeneral', '1100\\nAgricultural and Biological Sciences',\n",
              "       '1200\\nArts and Humanities',\n",
              "       '1300\\nBiochemistry, Genetics and Molecular Biology',\n",
              "       '1400\\nBusiness, Management and Accounting',\n",
              "       '1500\\nChemical Engineering', '1600\\nChemistry',\n",
              "       '1700\\nComputer Science', '1800\\nDecision Sciences',\n",
              "       '1900\\nEarth and Planetary Sciences',\n",
              "       '2000\\nEconomics, Econometrics and Finance', '2100\\nEnergy',\n",
              "       '2200\\nEngineering', '2300\\nEnvironmental Science',\n",
              "       '2400\\nImmunology and Microbiology', '2500\\nMaterials Science',\n",
              "       '2600\\nMathematics', '2700\\nMedicine', '2800\\nNeuroscience',\n",
              "       '2900\\nNursing', '3000\\nPharmacology, Toxicology and Pharmaceutics',\n",
              "       '3100\\nPhysics and Astronomy', '3200\\nPsychology',\n",
              "       '3300\\nSocial Sciences', '3400\\nVeterinary', '3500\\nDentistry',\n",
              "       '3600\\nHealth Professions'],\n",
              "      dtype='object')"
            ]
          },
          "metadata": {},
          "execution_count": 3
        }
      ],
      "source": [
        "source_df.columns"
      ]
    },
    {
      "cell_type": "code",
      "execution_count": 4,
      "metadata": {
        "id": "gQGlsV0iWJPH",
        "collapsed": true
      },
      "outputs": [],
      "source": [
        "#conf_df = pd.read_excel(BytesIO(response.content), sheet_name='All Conf. Proceedings')\n",
        "#conf_df.head(2)"
      ]
    },
    {
      "cell_type": "code",
      "execution_count": 5,
      "metadata": {
        "id": "gDSYl_mjWJPJ",
        "outputId": "6caff158-3447-45db-bfbf-e2fc3005b7ed",
        "colab": {
          "base_uri": "https://localhost:8080/",
          "height": 112
        }
      },
      "outputs": [
        {
          "output_type": "execute_result",
          "data": {
            "text/plain": [
              "   Code                                   Description\n",
              "1  1000                             Multidisciplinary\n",
              "3  1100  General Agricultural and Biological Sciences"
            ],
            "text/html": [
              "\n",
              "  <div id=\"df-b2da6a94-ab78-4f3b-86ca-156215eedfba\" class=\"colab-df-container\">\n",
              "    <div>\n",
              "<style scoped>\n",
              "    .dataframe tbody tr th:only-of-type {\n",
              "        vertical-align: middle;\n",
              "    }\n",
              "\n",
              "    .dataframe tbody tr th {\n",
              "        vertical-align: top;\n",
              "    }\n",
              "\n",
              "    .dataframe thead th {\n",
              "        text-align: right;\n",
              "    }\n",
              "</style>\n",
              "<table border=\"1\" class=\"dataframe\">\n",
              "  <thead>\n",
              "    <tr style=\"text-align: right;\">\n",
              "      <th></th>\n",
              "      <th>Code</th>\n",
              "      <th>Description</th>\n",
              "    </tr>\n",
              "  </thead>\n",
              "  <tbody>\n",
              "    <tr>\n",
              "      <th>1</th>\n",
              "      <td>1000</td>\n",
              "      <td>Multidisciplinary</td>\n",
              "    </tr>\n",
              "    <tr>\n",
              "      <th>3</th>\n",
              "      <td>1100</td>\n",
              "      <td>General Agricultural and Biological Sciences</td>\n",
              "    </tr>\n",
              "  </tbody>\n",
              "</table>\n",
              "</div>\n",
              "    <div class=\"colab-df-buttons\">\n",
              "\n",
              "  <div class=\"colab-df-container\">\n",
              "    <button class=\"colab-df-convert\" onclick=\"convertToInteractive('df-b2da6a94-ab78-4f3b-86ca-156215eedfba')\"\n",
              "            title=\"Convert this dataframe to an interactive table.\"\n",
              "            style=\"display:none;\">\n",
              "\n",
              "  <svg xmlns=\"http://www.w3.org/2000/svg\" height=\"24px\" viewBox=\"0 -960 960 960\">\n",
              "    <path d=\"M120-120v-720h720v720H120Zm60-500h600v-160H180v160Zm220 220h160v-160H400v160Zm0 220h160v-160H400v160ZM180-400h160v-160H180v160Zm440 0h160v-160H620v160ZM180-180h160v-160H180v160Zm440 0h160v-160H620v160Z\"/>\n",
              "  </svg>\n",
              "    </button>\n",
              "\n",
              "  <style>\n",
              "    .colab-df-container {\n",
              "      display:flex;\n",
              "      gap: 12px;\n",
              "    }\n",
              "\n",
              "    .colab-df-convert {\n",
              "      background-color: #E8F0FE;\n",
              "      border: none;\n",
              "      border-radius: 50%;\n",
              "      cursor: pointer;\n",
              "      display: none;\n",
              "      fill: #1967D2;\n",
              "      height: 32px;\n",
              "      padding: 0 0 0 0;\n",
              "      width: 32px;\n",
              "    }\n",
              "\n",
              "    .colab-df-convert:hover {\n",
              "      background-color: #E2EBFA;\n",
              "      box-shadow: 0px 1px 2px rgba(60, 64, 67, 0.3), 0px 1px 3px 1px rgba(60, 64, 67, 0.15);\n",
              "      fill: #174EA6;\n",
              "    }\n",
              "\n",
              "    .colab-df-buttons div {\n",
              "      margin-bottom: 4px;\n",
              "    }\n",
              "\n",
              "    [theme=dark] .colab-df-convert {\n",
              "      background-color: #3B4455;\n",
              "      fill: #D2E3FC;\n",
              "    }\n",
              "\n",
              "    [theme=dark] .colab-df-convert:hover {\n",
              "      background-color: #434B5C;\n",
              "      box-shadow: 0px 1px 3px 1px rgba(0, 0, 0, 0.15);\n",
              "      filter: drop-shadow(0px 1px 2px rgba(0, 0, 0, 0.3));\n",
              "      fill: #FFFFFF;\n",
              "    }\n",
              "  </style>\n",
              "\n",
              "    <script>\n",
              "      const buttonEl =\n",
              "        document.querySelector('#df-b2da6a94-ab78-4f3b-86ca-156215eedfba button.colab-df-convert');\n",
              "      buttonEl.style.display =\n",
              "        google.colab.kernel.accessAllowed ? 'block' : 'none';\n",
              "\n",
              "      async function convertToInteractive(key) {\n",
              "        const element = document.querySelector('#df-b2da6a94-ab78-4f3b-86ca-156215eedfba');\n",
              "        const dataTable =\n",
              "          await google.colab.kernel.invokeFunction('convertToInteractive',\n",
              "                                                    [key], {});\n",
              "        if (!dataTable) return;\n",
              "\n",
              "        const docLinkHtml = 'Like what you see? Visit the ' +\n",
              "          '<a target=\"_blank\" href=https://colab.research.google.com/notebooks/data_table.ipynb>data table notebook</a>'\n",
              "          + ' to learn more about interactive tables.';\n",
              "        element.innerHTML = '';\n",
              "        dataTable['output_type'] = 'display_data';\n",
              "        await google.colab.output.renderOutput(dataTable, element);\n",
              "        const docLink = document.createElement('div');\n",
              "        docLink.innerHTML = docLinkHtml;\n",
              "        element.appendChild(docLink);\n",
              "      }\n",
              "    </script>\n",
              "  </div>\n",
              "\n",
              "\n",
              "<div id=\"df-9ca04ee4-7b93-4e93-9132-15adfe5673e4\">\n",
              "  <button class=\"colab-df-quickchart\" onclick=\"quickchart('df-9ca04ee4-7b93-4e93-9132-15adfe5673e4')\"\n",
              "            title=\"Suggest charts\"\n",
              "            style=\"display:none;\">\n",
              "\n",
              "<svg xmlns=\"http://www.w3.org/2000/svg\" height=\"24px\"viewBox=\"0 0 24 24\"\n",
              "     width=\"24px\">\n",
              "    <g>\n",
              "        <path d=\"M19 3H5c-1.1 0-2 .9-2 2v14c0 1.1.9 2 2 2h14c1.1 0 2-.9 2-2V5c0-1.1-.9-2-2-2zM9 17H7v-7h2v7zm4 0h-2V7h2v10zm4 0h-2v-4h2v4z\"/>\n",
              "    </g>\n",
              "</svg>\n",
              "  </button>\n",
              "\n",
              "<style>\n",
              "  .colab-df-quickchart {\n",
              "      --bg-color: #E8F0FE;\n",
              "      --fill-color: #1967D2;\n",
              "      --hover-bg-color: #E2EBFA;\n",
              "      --hover-fill-color: #174EA6;\n",
              "      --disabled-fill-color: #AAA;\n",
              "      --disabled-bg-color: #DDD;\n",
              "  }\n",
              "\n",
              "  [theme=dark] .colab-df-quickchart {\n",
              "      --bg-color: #3B4455;\n",
              "      --fill-color: #D2E3FC;\n",
              "      --hover-bg-color: #434B5C;\n",
              "      --hover-fill-color: #FFFFFF;\n",
              "      --disabled-bg-color: #3B4455;\n",
              "      --disabled-fill-color: #666;\n",
              "  }\n",
              "\n",
              "  .colab-df-quickchart {\n",
              "    background-color: var(--bg-color);\n",
              "    border: none;\n",
              "    border-radius: 50%;\n",
              "    cursor: pointer;\n",
              "    display: none;\n",
              "    fill: var(--fill-color);\n",
              "    height: 32px;\n",
              "    padding: 0;\n",
              "    width: 32px;\n",
              "  }\n",
              "\n",
              "  .colab-df-quickchart:hover {\n",
              "    background-color: var(--hover-bg-color);\n",
              "    box-shadow: 0 1px 2px rgba(60, 64, 67, 0.3), 0 1px 3px 1px rgba(60, 64, 67, 0.15);\n",
              "    fill: var(--button-hover-fill-color);\n",
              "  }\n",
              "\n",
              "  .colab-df-quickchart-complete:disabled,\n",
              "  .colab-df-quickchart-complete:disabled:hover {\n",
              "    background-color: var(--disabled-bg-color);\n",
              "    fill: var(--disabled-fill-color);\n",
              "    box-shadow: none;\n",
              "  }\n",
              "\n",
              "  .colab-df-spinner {\n",
              "    border: 2px solid var(--fill-color);\n",
              "    border-color: transparent;\n",
              "    border-bottom-color: var(--fill-color);\n",
              "    animation:\n",
              "      spin 1s steps(1) infinite;\n",
              "  }\n",
              "\n",
              "  @keyframes spin {\n",
              "    0% {\n",
              "      border-color: transparent;\n",
              "      border-bottom-color: var(--fill-color);\n",
              "      border-left-color: var(--fill-color);\n",
              "    }\n",
              "    20% {\n",
              "      border-color: transparent;\n",
              "      border-left-color: var(--fill-color);\n",
              "      border-top-color: var(--fill-color);\n",
              "    }\n",
              "    30% {\n",
              "      border-color: transparent;\n",
              "      border-left-color: var(--fill-color);\n",
              "      border-top-color: var(--fill-color);\n",
              "      border-right-color: var(--fill-color);\n",
              "    }\n",
              "    40% {\n",
              "      border-color: transparent;\n",
              "      border-right-color: var(--fill-color);\n",
              "      border-top-color: var(--fill-color);\n",
              "    }\n",
              "    60% {\n",
              "      border-color: transparent;\n",
              "      border-right-color: var(--fill-color);\n",
              "    }\n",
              "    80% {\n",
              "      border-color: transparent;\n",
              "      border-right-color: var(--fill-color);\n",
              "      border-bottom-color: var(--fill-color);\n",
              "    }\n",
              "    90% {\n",
              "      border-color: transparent;\n",
              "      border-bottom-color: var(--fill-color);\n",
              "    }\n",
              "  }\n",
              "</style>\n",
              "\n",
              "  <script>\n",
              "    async function quickchart(key) {\n",
              "      const quickchartButtonEl =\n",
              "        document.querySelector('#' + key + ' button');\n",
              "      quickchartButtonEl.disabled = true;  // To prevent multiple clicks.\n",
              "      quickchartButtonEl.classList.add('colab-df-spinner');\n",
              "      try {\n",
              "        const charts = await google.colab.kernel.invokeFunction(\n",
              "            'suggestCharts', [key], {});\n",
              "      } catch (error) {\n",
              "        console.error('Error during call to suggestCharts:', error);\n",
              "      }\n",
              "      quickchartButtonEl.classList.remove('colab-df-spinner');\n",
              "      quickchartButtonEl.classList.add('colab-df-quickchart-complete');\n",
              "    }\n",
              "    (() => {\n",
              "      let quickchartButtonEl =\n",
              "        document.querySelector('#df-9ca04ee4-7b93-4e93-9132-15adfe5673e4 button');\n",
              "      quickchartButtonEl.style.display =\n",
              "        google.colab.kernel.accessAllowed ? 'block' : 'none';\n",
              "    })();\n",
              "  </script>\n",
              "</div>\n",
              "    </div>\n",
              "  </div>\n"
            ],
            "application/vnd.google.colaboratory.intrinsic+json": {
              "type": "dataframe",
              "variable_name": "code_df",
              "summary": "{\n  \"name\": \"code_df\",\n  \"rows\": 334,\n  \"fields\": [\n    {\n      \"column\": \"Code\",\n      \"properties\": {\n        \"dtype\": \"number\",\n        \"std\": 738,\n        \"min\": 1000,\n        \"max\": 3616,\n        \"num_unique_values\": 334,\n        \"samples\": [\n          1212,\n          3404,\n          1702\n        ],\n        \"semantic_type\": \"\",\n        \"description\": \"\"\n      }\n    },\n    {\n      \"column\": \"Description\",\n      \"properties\": {\n        \"dtype\": \"string\",\n        \"num_unique_values\": 333,\n        \"samples\": [\n          \"Religious studies\",\n          \"General Dentistry\",\n          \"Artificial Intelligence\"\n        ],\n        \"semantic_type\": \"\",\n        \"description\": \"\"\n      }\n    }\n  ]\n}"
            }
          },
          "metadata": {},
          "execution_count": 5
        }
      ],
      "source": [
        "code_df = pd.read_excel(BytesIO(response.content), sheet_name='ASJC Classification Codes', usecols=[\"Code\", \"Description\"], skiprows=8).dropna()\n",
        "code_df.Code = code_df.Code.astype(int)\n",
        "code_df.head(2)"
      ]
    },
    {
      "cell_type": "code",
      "execution_count": 7,
      "metadata": {
        "id": "wWZRjPqfWJPL",
        "collapsed": true,
        "outputId": "dcc9dc61-16b2-4732-b1cc-4212251afc91",
        "colab": {
          "base_uri": "https://localhost:8080/",
          "height": 179
        }
      },
      "outputs": [
        {
          "output_type": "error",
          "ename": "AttributeError",
          "evalue": "'str' object has no attribute 'rename'",
          "traceback": [
            "\u001b[0;31m---------------------------------------------------------------------------\u001b[0m",
            "\u001b[0;31mAttributeError\u001b[0m                            Traceback (most recent call last)",
            "\u001b[0;32m<ipython-input-7-a8f5dbcd9909>\u001b[0m in \u001b[0;36m<cell line: 0>\u001b[0;34m()\u001b[0m\n\u001b[1;32m     14\u001b[0m \u001b[0;31m# for df in source_df, conf_df:\u001b[0m\u001b[0;34m\u001b[0m\u001b[0;34m\u001b[0m\u001b[0m\n\u001b[1;32m     15\u001b[0m \u001b[0;32mfor\u001b[0m \u001b[0mdf\u001b[0m \u001b[0;32min\u001b[0m \u001b[0msource_df\u001b[0m\u001b[0;34m:\u001b[0m\u001b[0;34m\u001b[0m\u001b[0;34m\u001b[0m\u001b[0m\n\u001b[0;32m---> 16\u001b[0;31m     \u001b[0mdf\u001b[0m\u001b[0;34m.\u001b[0m\u001b[0mrename\u001b[0m\u001b[0;34m(\u001b[0m\u001b[0mcolumns\u001b[0m\u001b[0;34m=\u001b[0m\u001b[0mrenamer\u001b[0m\u001b[0;34m,\u001b[0m \u001b[0minplace\u001b[0m\u001b[0;34m=\u001b[0m\u001b[0;32mTrue\u001b[0m\u001b[0;34m)\u001b[0m\u001b[0;34m\u001b[0m\u001b[0;34m\u001b[0m\u001b[0m\n\u001b[0m",
            "\u001b[0;31mAttributeError\u001b[0m: 'str' object has no attribute 'rename'"
          ]
        }
      ],
      "source": [
        "# Rename columns on dataframes\n",
        "renamer = {\n",
        "    'Sourcerecord ID': 'scopus_id',\n",
        "    \"Source Title (Medline-sourced journals are indicated in Green)\": \"title_name\",\n",
        "    \"Conference Name\": \"title_name\",\n",
        "    'All Science Classification Codes (ASJC)': 'asjc_codes',\n",
        "    'ASJC Code': 'asjc_codes',\n",
        "    \"All Science Journal Classification Codes (ASJC)\": \"asjc_codes\",\n",
        "    'Print-ISSN': 'issn_print',\n",
        "    'E-ISSN': 'issn_electronic',\n",
        "    'ISSN': 'issn_unspecified',\n",
        "}\n",
        "\n",
        "# for df in source_df, conf_df:\n",
        "for df in source_df:\n",
        "    df.rename(columns=renamer, inplace=True)"
      ]
    },
    {
      "cell_type": "markdown",
      "metadata": {
        "id": "yGRIrb1sWJPN"
      },
      "source": [
        "## Titles"
      ]
    },
    {
      "cell_type": "code",
      "execution_count": null,
      "metadata": {
        "id": "sA76X6o1WJPP"
      },
      "outputs": [],
      "source": [
        "# Extract title names\n",
        "rows = list()\n",
        "for df in source_df, conf_df:\n",
        "    rows.extend(zip(df.scopus_id, df.title_name))\n",
        "\n",
        "rows.sort()\n",
        "title_df = pandas.DataFrame(rows, columns=['scopus_id', 'title_name'])\n",
        "title_df = title_df.drop_duplicates('scopus_id')"
      ]
    },
    {
      "cell_type": "code",
      "execution_count": null,
      "metadata": {
        "id": "bhSZKDAiWJPR"
      },
      "outputs": [],
      "source": [
        "title_df.head(2)"
      ]
    },
    {
      "cell_type": "code",
      "execution_count": null,
      "metadata": {
        "id": "rYiSN1XBWJPS"
      },
      "outputs": [],
      "source": [
        "len(title_df)"
      ]
    },
    {
      "cell_type": "code",
      "execution_count": null,
      "metadata": {
        "id": "aR8_4u-oWJPT"
      },
      "outputs": [],
      "source": [
        "path = pathlib.Path('data/titles.tsv')\n",
        "title_df.to_csv(path, index=False, sep='\\t')"
      ]
    },
    {
      "cell_type": "markdown",
      "metadata": {
        "id": "N5Lf3niyWJPU"
      },
      "source": [
        "## ISSN"
      ]
    },
    {
      "cell_type": "code",
      "execution_count": null,
      "metadata": {
        "id": "5BA1debJWJPV"
      },
      "outputs": [],
      "source": [
        "# Load linking ISSN map as per https://github.com/dhimmel/scopus/issues/7\n",
        "path = pathlib.Path('download/20210912.ISSN-to-ISSN-L.txt.gz')\n",
        "issnl_df = (\n",
        "    pandas.read_table(path)\n",
        "    .rename(columns={\"ISSN\": \"issn\", \"ISSN-L\": \"linking_issn\"})\n",
        ")\n",
        "issnl_df.head(2)"
      ]
    },
    {
      "cell_type": "code",
      "execution_count": null,
      "metadata": {
        "id": "v5YvUes5WJPV"
      },
      "outputs": [],
      "source": [
        "value_vars = {'issn_print', 'issn_electronic', 'issn_unspecified'}\n",
        "issn_dfs = list()\n",
        "for df in source_df, conf_df:\n",
        "    df_value_vars = value_vars.intersection(df.columns)\n",
        "    df = pandas.melt(df, id_vars='scopus_id', value_vars=df_value_vars, var_name='issn_type', value_name='issn')\n",
        "    df.dropna(inplace=True)\n",
        "    df.issn = df.issn.map(format_issn)\n",
        "    df.issn_type = df.issn_type.map(lambda x: x.split('_')[1])\n",
        "    issn_dfs.append(df.dropna())\n",
        "issn_df = (\n",
        "    pandas.concat(issn_dfs)\n",
        "    .dropna()\n",
        "    .drop_duplicates(['scopus_id', 'issn'])\n",
        "    .merge(issnl_df, how=\"left\")\n",
        "    .sort_values(['scopus_id', 'issn_type', 'issn', 'linking_issn'])\n",
        ")\n",
        "issn_df.head(2)"
      ]
    },
    {
      "cell_type": "code",
      "execution_count": null,
      "metadata": {
        "id": "h0HkwPVVWJPW"
      },
      "outputs": [],
      "source": [
        "len(issn_df), len(issnl_df)"
      ]
    },
    {
      "cell_type": "code",
      "execution_count": null,
      "metadata": {
        "scrolled": true,
        "id": "mMXz_8WYWJPX"
      },
      "outputs": [],
      "source": [
        "issn_df.head(3)"
      ]
    },
    {
      "cell_type": "code",
      "execution_count": null,
      "metadata": {
        "id": "giA6CeozWJPZ"
      },
      "outputs": [],
      "source": [
        "# Scopus ISSNs that don't have an ISSN-L\n",
        "bad_issn_df = issn_df[issn_df.linking_issn.isna()]\n",
        "print(len(bad_issn_df))\n",
        "bad_issn_df.sample(5, random_state=0)"
      ]
    },
    {
      "cell_type": "code",
      "execution_count": null,
      "metadata": {
        "id": "R1iCSS_RWJPZ"
      },
      "outputs": [],
      "source": [
        "path = pathlib.Path('data/issn.tsv')\n",
        "issn_df.to_csv(path, sep='\\t', index=False)"
      ]
    },
    {
      "cell_type": "markdown",
      "metadata": {
        "id": "DGwXWNnxWJPa"
      },
      "source": [
        "## ASJC Codes\n",
        "\n",
        "All Science Journal Classification (ASJC) Codes"
      ]
    },
    {
      "cell_type": "code",
      "execution_count": null,
      "metadata": {
        "id": "McarkZVyWJPa"
      },
      "outputs": [],
      "source": [
        "# Extract ASJC code descriptions\n",
        "code_df = code_df.rename(columns={'Code': 'asjc_code', 'Description': 'asjc_description'})\n",
        "code_df = code_df[['asjc_code', 'asjc_description']]\n",
        "code_df.head(2)"
      ]
    },
    {
      "cell_type": "code",
      "execution_count": null,
      "metadata": {
        "id": "Tl0T57gjWJPb"
      },
      "outputs": [],
      "source": [
        "path = pathlib.Path('data/asjc-codes.tsv')\n",
        "code_df.to_csv(path, index=False, sep='\\t')"
      ]
    },
    {
      "cell_type": "code",
      "execution_count": null,
      "metadata": {
        "id": "rODI8_8fWJPb"
      },
      "outputs": [],
      "source": [
        "# Extract title to code mapping\n",
        "rows = list()\n",
        "for df in source_df, conf_df:\n",
        "    for scopus_id, codes in zip(df.scopus_id, df.asjc_codes):\n",
        "        for code in re.split(r'[,;] *', str(codes)):\n",
        "            code = code.strip()\n",
        "            try:\n",
        "                code = int(code)\n",
        "            except ValueError:\n",
        "                continue\n",
        "            rows.append((scopus_id, code))\n",
        "\n",
        "rows.sort()\n",
        "title_codes_df = pandas.DataFrame(rows, columns=['scopus_id', 'asjc_code'])\n",
        "title_codes_df = title_codes_df.drop_duplicates()\n",
        "title_codes_df.head(2)"
      ]
    },
    {
      "cell_type": "code",
      "execution_count": null,
      "metadata": {
        "id": "iib_AAZ3WJPc"
      },
      "outputs": [],
      "source": [
        "path = pathlib.Path('data/titles-asjc-codes.tsv')\n",
        "title_codes_df.to_csv(path, index=False, sep='\\t')"
      ]
    },
    {
      "cell_type": "code",
      "execution_count": null,
      "metadata": {
        "id": "AGcg4p-0WJPd"
      },
      "outputs": [],
      "source": [
        "# Extract title to subject area mapping\n",
        "subject_df = title_codes_df.copy()\n",
        "subject_df.asjc_code = 100 * (subject_df.asjc_code // 100)\n",
        "subject_df = subject_df.drop_duplicates()\n",
        "subject_df = subject_df.merge(code_df)\n",
        "subject_df.asjc_description = subject_df.asjc_description.map(lambda x: re.sub(r'^General ', '', x))\n",
        "subject_df = subject_df.sort_values(['scopus_id', 'asjc_code'])\n",
        "subject_df.head(2)"
      ]
    },
    {
      "cell_type": "code",
      "execution_count": null,
      "metadata": {
        "id": "tctzKn_3WJPd"
      },
      "outputs": [],
      "source": [
        "path = pathlib.Path('data/subject-areas.tsv')\n",
        "subject_df.to_csv(path, index=False, sep='\\t')"
      ]
    },
    {
      "cell_type": "markdown",
      "metadata": {
        "id": "yPH1-MB4WJPe"
      },
      "source": [
        "## Title attributes"
      ]
    },
    {
      "cell_type": "code",
      "execution_count": null,
      "metadata": {
        "id": "C9_nDD69WJPe"
      },
      "outputs": [],
      "source": [
        "# Extract title attributes for non-conference-proceedings\n",
        "renamer = {\n",
        "    'Open Access status, i.e., registered in DOAJ. Status May 2020\\n': 'open_access',\n",
        "    'Active or Inactive': 'active',\n",
        "    'Source Type': 'source_type',\n",
        "    'Publisher imprints grouped to main Publisher': 'main_publisher',\n",
        "}\n",
        "attribute_df = source_df.copy()\n",
        "attribute_df = attribute_df.rename(columns=renamer)\n",
        "attribute_df = attribute_df[['scopus_id'] + list(renamer.values())]\n",
        "attribute_df.active = (attribute_df.active == 'Active').astype(int)\n",
        "attribute_df.open_access = attribute_df.open_access.notnull().astype(int)\n",
        "attribute_df = attribute_df.sort_values('scopus_id')\n",
        "# Enforce column order for diff viewing\n",
        "columns = ['scopus_id', 'active', 'open_access', 'main_publisher', 'source_type']\n",
        "attribute_df = attribute_df[columns]\n",
        "attribute_df = attribute_df.drop_duplicates('scopus_id')\n",
        "attribute_df.head(2)"
      ]
    },
    {
      "cell_type": "markdown",
      "metadata": {
        "id": "_pSoJldbWJPf"
      },
      "source": [
        "### Fix publishers"
      ]
    },
    {
      "cell_type": "code",
      "execution_count": null,
      "metadata": {
        "id": "G056DN_wWJPf"
      },
      "outputs": [],
      "source": [
        "print(f'Publishers before filtering: {attribute_df.main_publisher.nunique():,}')\n",
        "\n",
        "# Strip whitespace sourrounding publisher names\n",
        "attribute_df.main_publisher = attribute_df.main_publisher.str.strip()\n",
        "print(f'Publishers after whitespace stripping: {attribute_df.main_publisher.nunique():,}')\n",
        "\n",
        "# Apply manual publisher name patches\n",
        "path = pathlib.Path('data/publisher-name-patches.tsv')\n",
        "patch_df = pandas.read_table(path)\n",
        "publisher_renamer = dict(zip(patch_df.scopus_main_publisher, patch_df.publisher_name))\n",
        "attribute_df.main_publisher.replace(publisher_renamer, inplace=True)\n",
        "print(f'Publishers after renaming: {attribute_df.main_publisher.nunique():,}')"
      ]
    },
    {
      "cell_type": "code",
      "execution_count": null,
      "metadata": {
        "id": "FKHNqaZ8WJPg"
      },
      "outputs": [],
      "source": [
        "# Create a publsher dataframe\n",
        "publisher_df = (\n",
        "    attribute_df\n",
        "    .groupby('main_publisher')\n",
        "    .apply(len)\n",
        "    .rename('n_journals')\n",
        "    .reset_index()\n",
        ")\n",
        "slugger = slugify.Slugify(to_lower=True)\n",
        "publisher_df['main_publisher_slug'] = publisher_df.main_publisher.map(slugger)\n",
        "\n",
        "def summarize(df):\n",
        "    \"\"\"\n",
        "    Condense multiple publishers with the same slug\n",
        "    \"\"\"\n",
        "    # Select name variant used for the most number of titles\n",
        "    df = df.sort_values(['n_journals', 'main_publisher'])\n",
        "    return {\n",
        "        'n_journals': sum(df.n_journals),\n",
        "        'main_publisher': df.main_publisher.iloc[0],\n",
        "        'name_variants': len(df),\n",
        "    }\n",
        "\n",
        "results = (\n",
        "    publisher_df\n",
        "    .groupby('main_publisher_slug')\n",
        "    .apply(summarize)\n",
        ")\n",
        "publisher_df = pandas.DataFrame.from_records(results, index=results.index).reset_index()\n",
        "publisher_df.head(2)"
      ]
    },
    {
      "cell_type": "code",
      "execution_count": null,
      "metadata": {
        "id": "kcbTJEJiWJPg"
      },
      "outputs": [],
      "source": [
        "# How many publishers had name variants (identified using slug reduction)\n",
        "publisher_df.name_variants.value_counts()"
      ]
    },
    {
      "cell_type": "code",
      "execution_count": null,
      "metadata": {
        "id": "eKFl90PXWJPh"
      },
      "outputs": [],
      "source": [
        "# Standardize name variants using slug reductionism\n",
        "slug_to_publisher = dict(zip(publisher_df.main_publisher_slug, publisher_df.main_publisher))\n",
        "attribute_df.main_publisher = attribute_df.main_publisher.map(slugger, na_action='ignore').map(slug_to_publisher)\n",
        "print(f'Publishers after slug reductions: {attribute_df.main_publisher.nunique():,}')"
      ]
    },
    {
      "cell_type": "code",
      "execution_count": null,
      "metadata": {
        "id": "blvq3nvZWJPh"
      },
      "outputs": [],
      "source": [
        "path = pathlib.Path('data/title-attributes.tsv')\n",
        "attribute_df.to_csv(path, index=False, sep='\\t')\n",
        "\n",
        "path = pathlib.Path('data/publishers.tsv')\n",
        "publisher_df.to_csv(path, index=False, sep='\\t')"
      ]
    },
    {
      "cell_type": "code",
      "execution_count": null,
      "metadata": {
        "id": "TqL2gNg0WJPi"
      },
      "outputs": [],
      "source": [
        "# Top level subject areas\n",
        "rows = []\n",
        "tl_cols = list(source_df.columns[source_df.columns.str.startswith('Top level:')])\n",
        "for i, series in source_df[['scopus_id'] + tl_cols].iterrows():\n",
        "    scopus_id = series.scopus_id\n",
        "    for value in series.iloc[1:].dropna():\n",
        "        rows.append((scopus_id, value))\n",
        "rows.sort()\n",
        "top_df = pandas.DataFrame(rows, columns=['scopus_id', 'top_level_subject'])\n",
        "top_df.head(2)"
      ]
    },
    {
      "cell_type": "code",
      "execution_count": null,
      "metadata": {
        "id": "OJS3z12eWJPi"
      },
      "outputs": [],
      "source": [
        "path = pathlib.Path('data/title-top-levels.tsv')\n",
        "top_df.to_csv(path, index=False, sep='\\t')"
      ]
    }
  ],
  "metadata": {
    "anaconda-cloud": {},
    "interpreter": {
      "hash": "0e356716c2af146b4f1229c16fd80fd2e17e74cbf6057515b63f09e4d327206c"
    },
    "kernelspec": {
      "display_name": "Python 3 (ipykernel)",
      "language": "python",
      "name": "python3"
    },
    "language_info": {
      "codemirror_mode": {
        "name": "ipython",
        "version": 3
      },
      "file_extension": ".py",
      "mimetype": "text/x-python",
      "name": "python",
      "nbconvert_exporter": "python",
      "pygments_lexer": "ipython3",
      "version": "3.9.6"
    },
    "colab": {
      "provenance": [],
      "include_colab_link": true
    }
  },
  "nbformat": 4,
  "nbformat_minor": 0
}